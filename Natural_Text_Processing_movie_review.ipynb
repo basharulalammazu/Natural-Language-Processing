{
  "nbformat": 4,
  "nbformat_minor": 0,
  "metadata": {
    "colab": {
      "provenance": [],
      "gpuType": "V28",
      "authorship_tag": "ABX9TyP26skMXqon7+i6evlF00P8",
      "include_colab_link": true
    },
    "kernelspec": {
      "name": "python3",
      "display_name": "Python 3"
    },
    "language_info": {
      "name": "python"
    },
    "accelerator": "TPU"
  },
  "cells": [
    {
      "cell_type": "markdown",
      "metadata": {
        "id": "view-in-github",
        "colab_type": "text"
      },
      "source": [
        "<a href=\"https://colab.research.google.com/github/mdtanjimrahman/Natural-Language-Processing/blob/main/Natural_Text_Processing_movie_review.ipynb\" target=\"_parent\"><img src=\"https://colab.research.google.com/assets/colab-badge.svg\" alt=\"Open In Colab\"/></a>"
      ]
    },
    {
      "cell_type": "code",
      "source": [
        "import pandas as pd\n",
        "import numpy as np\n",
        "import matplotlib.pyplot as plt\n",
        "from sklearn.model_selection import train_test_split\n",
        "from sklearn.feature_extraction.text import CountVectorizer, TfidfVectorizer\n",
        "from sklearn.naive_bayes import MultinomialNB\n",
        "from sklearn.metrics import classification_report, confusion_matrix, accuracy_score\n",
        "from sklearn.metrics import ConfusionMatrixDisplay\n",
        "from sklearn.metrics import precision_recall_curve, PrecisionRecallDisplay\n",
        "import nltk\n",
        "from nltk.corpus import stopwords\n",
        "from nltk.corpus import wordnet\n",
        "from nltk.stem import PorterStemmer, WordNetLemmatizer\n",
        "from nltk.tokenize import word_tokenize\n",
        "import string\n",
        "import re\n",
        "import spacy\n",
        "nltk.download('punkt')\n",
        "nltk.download('punkt_tab')\n",
        "nltk.download('stopwords')\n",
        "nltk.download('wordnet')\n",
        "nltk.download('omw-1.4')"
      ],
      "metadata": {
        "colab": {
          "base_uri": "https://localhost:8080/"
        },
        "id": "e8motImJuWMP",
        "outputId": "4f6a5c35-4f09-421c-ac5e-00533706a6e3"
      },
      "execution_count": null,
      "outputs": [
        {
          "output_type": "stream",
          "name": "stderr",
          "text": [
            "[nltk_data] Downloading package punkt to /root/nltk_data...\n",
            "[nltk_data]   Package punkt is already up-to-date!\n",
            "[nltk_data] Downloading package punkt_tab to /root/nltk_data...\n",
            "[nltk_data]   Package punkt_tab is already up-to-date!\n",
            "[nltk_data] Downloading package stopwords to /root/nltk_data...\n",
            "[nltk_data]   Package stopwords is already up-to-date!\n",
            "[nltk_data] Downloading package wordnet to /root/nltk_data...\n",
            "[nltk_data]   Package wordnet is already up-to-date!\n",
            "[nltk_data] Downloading package averaged_perceptron_tagger to\n",
            "[nltk_data]     /root/nltk_data...\n",
            "[nltk_data]   Unzipping taggers/averaged_perceptron_tagger.zip.\n",
            "[nltk_data] Downloading package omw-1.4 to /root/nltk_data...\n",
            "[nltk_data]   Package omw-1.4 is already up-to-date!\n"
          ]
        },
        {
          "output_type": "execute_result",
          "data": {
            "text/plain": [
              "True"
            ]
          },
          "metadata": {},
          "execution_count": 26
        }
      ]
    },
    {
      "cell_type": "code",
      "execution_count": null,
      "metadata": {
        "id": "wMYFl6-BpMNx",
        "colab": {
          "base_uri": "https://localhost:8080/"
        },
        "outputId": "abf45010-4f08-4db8-f1ab-d6f327e10df9"
      },
      "outputs": [
        {
          "output_type": "stream",
          "name": "stdout",
          "text": [
            "Mounted at /content/drive\n"
          ]
        }
      ],
      "source": [
        "from google.colab import drive\n",
        "drive.mount('/content/drive')"
      ]
    },
    {
      "cell_type": "code",
      "source": [
        "file_path = '/content/drive/My Drive/Colab Notebooks/NLP/moviereviews.csv'\n",
        "df = pd.read_csv(file_path)\n",
        "\n",
        "print(\"Dataset shape:\", df.shape)\n",
        "print(\"\\nLabel distribution:\")\n",
        "print(df['label'].value_counts())\n",
        "pd.set_option('display.max_colwidth', None)\n",
        "df.head()"
      ],
      "metadata": {
        "colab": {
          "base_uri": "https://localhost:8080/",
          "height": 1000
        },
        "id": "q9C_WBePuXOM",
        "outputId": "c71c5e1b-d100-4e46-9c97-0c57d2d89227"
      },
      "execution_count": null,
      "outputs": [
        {
          "output_type": "stream",
          "name": "stdout",
          "text": [
            "Dataset shape: (2000, 2)\n",
            "\n",
            "Label distribution:\n",
            "label\n",
            "neg    1000\n",
            "pos    1000\n",
            "Name: count, dtype: int64\n"
          ]
        },
        {
          "output_type": "execute_result",
          "data": {
            "text/plain": [
              "  label  \\\n",
              "0   neg   \n",
              "1   neg   \n",
              "2   pos   \n",
              "3   pos   \n",
              "4   neg   \n",
              "\n",
              "                                                                                                                                                                                                                                                                                                                                                                                                                                                                                                                                                                                                                                                                                                                                                                                                                                                                                                                                                                                                                                                                                                                                                                                                                                                                                                                                                                                                                                                                                                                                                                                                                                                                                                                                                                                                                                                                                                                                                                                                                                                                                                                                                                                                                                                                                                                                                                                                                                                                                                                                                                                                                                                                                                                                                                                                                                                                                                                                                                                                                                                                                                                                                                                                                                                                                                                                                                                                                                                                                                                                                                                                                                                                                                                                                                                                                                                                                                                                                                                                                                                                                                                                                                                                                                                                                                                                                                                                                                                                                                                                                                                                                                                                                                                                                                                                                                                                                                                                                                                                                                                                                                                                                                                                                                                                                                                                                                                                                                                                                                                                                                                                                                                                                                                                                                                                             review  \n",
              "0                                                                                                                                                                                                                                                                                                                                                                                                                                                                                                                                                                                                                                                                                                                                                                                                                                                                                                                                                                                                                                                                                                                                                                                                                                                                                                                                                                                                                                                                                                                                                                                                                                                                                                                                                                                                                                                                                                                                                                                                                                                                                                                                                                                                                                                                                                                                                                                                                                                                                                                                                                                                                                                                                                                                                                                                                                                                                                                                                                                                                                                                                                                                                                                                                                                                                                                                                                                                                                                                        how do films like mouse hunt get into theatres ? \\nisn't there a law or something ? \\nthis diabolical load of claptrap from steven speilberg's dreamworks studio is hollywood family fare at its deadly worst . \\nmouse hunt takes the bare threads of a plot and tries to prop it up with overacting and flat-out stupid slapstick that makes comedies like jingle all the way look decent by comparison . \\nwriter adam rifkin and director gore verbinski are the names chiefly responsible for this swill . \\nthe plot , for what its worth , concerns two brothers ( nathan lane and an appalling lee evens ) who inherit a poorly run string factory and a seemingly worthless house from their eccentric father . \\ndeciding to check out the long-abandoned house , they soon learn that it's worth a fortune and set about selling it in auction to the highest bidder . \\nbut battling them at every turn is a very smart mouse , happy with his run-down little abode and wanting it to stay that way . \\nthe story alternates between unfunny scenes of the brothers bickering over what to do with their inheritance and endless action sequences as the two take on their increasingly determined furry foe . \\nwhatever promise the film starts with soon deteriorates into boring dialogue , terrible overacting , and increasingly uninspired slapstick that becomes all sound and fury , signifying nothing . \\nthe script becomes so unspeakably bad that the best line poor lee evens can utter after another run in with the rodent is : \" i hate that mouse \" . \\noh cringe ! \\nthis is home alone all over again , and ten times worse . \\none touching scene early on is worth mentioning . \\nwe follow the mouse through a maze of walls and pipes until he arrives at his makeshift abode somewhere in a wall . \\nhe jumps into a tiny bed , pulls up a makeshift sheet and snuggles up to sleep , seemingly happy and just wanting to be left alone . \\nit's a magical little moment in an otherwise soulless film . \\na message to speilberg : if you want dreamworks to be associated with some kind of artistic credibility , then either give all concerned in mouse hunt a swift kick up the arse or hire yourself some decent writers and directors . \\nthis kind of rubbish will just not do at all . \\n  \n",
              "1                                                                                                                                                                                                                                                                                                                                                                                                                                                                                                                                                                                                                                                                                                                                                                                                                                                                                                                                                                                                                                                                                                                                                                                                                                                                                                                                                                                                                                                                                                                                                                                                                                                                                                                                                                                                                                                                                                                                                                                                                                                                                                                                                                   some talented actresses are blessed with a demonstrated wide acting range while others , almost as gifted , have more limited types of parts for which they are suitable . \\nas was amply evident after basic instinct , sharon stone can play sensual roles with great abandon . \\nrejecting her natural abilities , she has spent the rest of her entire career trying with little success to play against type . \\ngloria is her latest disaster . \\nbabe ruth didn't quit baseball after one season to play football in a quixotic quest to prove his athletic dexterity , and neither should stone reject what she does best . \\njaneane garofalo , for example , is no less wonderful an actress because she could have never pulled off stone's part in basic instinct ; neither is stone any less talented because she couldn't do garofalo's comedic roles . \\ngloria , directed by respected director sidney lumet and adapted by steve antin from the 1980 screenplay by john cassavetes , was not screened in advance for critics , almost always a sign that the studio isn't behind the picture . \\nafter seeing it in a nearly empty audience after it opened , it is clear why they held it from the press . \\nit is a film more to be endured than enjoyed . \\nas the story opens , an angry gloria ( stone ) is being released from prison after 3 years confinement . \\nshe's got a bad attitude and a big mouth . \\nshe also has a bad case of wavering and overblown new york accents , a disease suffered by much of the rest of the cast . \\nan annoying child actor named jean-luke figueroa plays a soon-to-be orphan named nicky . \\njust before his whole family is gunned down by hoods working for gloria's ex-boyfriend kevin ( jeremy northam ) , nicky's dad gives him a banana yellow floppy disk with secrets about kevin's operation and offers him a piece of fatherly advice . \\n \" be a man , \" his father lectures him sternly . \\n \" don't trust nobody . \\nnot no broads . \\nnobody . \" \\nmost of the film's leaden dialog is delivered with the emotive power of the automated time and temperature announcements . \\nadd in the movie's almost non-existent background noise and the excruciatingly slow pacing , and you can hear the sounds of the lines falling to the ground like stones . \\nlumet places his actors in the frames like fruit in a still life painting . \\nthey stand awkwardly mouthing the stiff sentences that pass for discourse . \\n ( \" say you're my baby , \" kevin coos demandingly . \\n \" i'm not gonna , \" gloria pouts back . ) \\nthe movie has a plethora of logical flaws and implausibilites . \\nthe kid rarely seems the least bit worried or scared , no matter how many people are after him with guns , trying to kill him . \\nand in one key scene , the yellow floppy he holds is assumed to be the right disk without checking it and is further assumed never to have been copied . \\ngloria , who keeps saying how she hates kids , takes nicky under her wing and protects him from kevin and the bad guys . \\nthink her maternal instincts will show up before the movie finally and predictably ends ? \\nif you don't know the answer , you may be just the right viewer for this film . \\nyou have to say this for stone : she can keep a straight face . \\nwhen explaining life to a 7-year-old kid , she says with utter seriousness , \" you got a lot of love making to make ; you got a lot of boozing to do . \" \\ngloria runs 1 : 48 . \\nit is rated r for profanity , violence and brief male nudity and would be acceptable for teenagers . \\n  \n",
              "2                                                                                                                                                                                                                                                                                                                                                                                                                                                                                                                                                                                                                                                                                                                                                                                                                                                                                                                                                                                                                                                                                                                                                                                                                                                                                                                                                                                                                                                                                                                                                                                                                                                                                                                                                                                     this has been an extraordinary year for australian films . \\n \" shine \" has just scooped the pool at the australian film institute awards , picking up best film , best actor , best director etc . to that we can add the gritty \" life \" ( the anguish , courage and friendship of a group of male prisoners in the hiv-positive section of a jail ) and \" love and other catastrophes \" ( a low budget gem about straight and gay love on and near a university campus ) . \\ni can't recall a year in which such a rich and varied celluloid library was unleashed from australia . \\n \" shine \" was one bookend . \\nstand by for the other one : \" dead heart \" . \\n>from the opening credits the theme of division is established . \\nthe cast credits have clear and distinct lines separating their first and last names . \\nbryan | brown . \\nin a desert settlement , hundreds of kilometres from the nearest town , there is an uneasy calm between the local aboriginals and the handful of white settlers who live nearby . \\nthe local police officer has the task of enforcing \" white man's justice \" to the aboriginals . \\nthese are people with a proud 40 , 000 year heritage behind them . \\nnaturally , this includes their own system of justice ; key to which is \" payback \" . \\nan eye for an eye . \\nrevenge . \\nusually extracted by the spearing through of the recipient's thigh . \\nbrown , as the officer , manages quite well to keep the balance . \\nhe admits that he has to 'bend the rules' a bit , including actively encouraging at least one brutal \" payback \" . \\n ( be warned that this scene , near the start , is not for the squeamish ) . \\nthe local priest - an aboriginal , but in the \" white fellas \" church - has a foot on either side of the line . \\nhe is , figuratively and literally , in both camps . \\nernie dingo brings a great deal of understanding to this role as the man in the middle . \\nhe is part churchman and part politician . \\nhowever the tension , like the heat , flies and dust , is always there . \\nwhilst her husband - the local teacher - is in church , white lady kate ( milliken ) and her aborginal friend tony , ( pedersen ) have gone off into the hills . \\nhe takes her to a sacred site , even today strictly men-only . \\nshe appears to not know this . \\ntony tells her that this is a special place , an initiation place . \\nhe then makes love to her , surrounded by ancient rock art . \\nthe community finds out about this sacrilegious act and it's payback time . \\nthe fuse is lit and the brittle inter-racial peace is shattered . \\neveryone is affected in the fall out . \\nto say more is to give away the details of this finely crafted film . \\nsuffice to say it's a rewarding experience . \\nbryan brown , acting and co-producing , is the pivotal character . \\nhis officer is real , human and therefore flawed . \\nbrown comments that he expects audiences to feel warmth towards the man , then suddenly feel angry about him . \\nit wasn't long ago that i visited central australia - ayers rock ( uluru ) and alice springs - for the first time . \\nthe wide-screen cinematography shows the dead heart of australia in a way that captures it's vicious beauty , but never deteriorates into a moving slide show , in which the gorgeous background dominates those pesky actors in the foreground . \\nthe cultural clash has provided the thesis for many a film ; from the western to the birdcage . \\nat least three excellent australian films have covered the aboriginal people and the line between them and we anglo-saxon 'invaders' : \" jedda \" , \" the chant of jimmie blacksmith \" and \" the last wave \" . \\nin a year when the race 'debate' has reared up in australia , it is nourishing to see such an intelligent , non-judgemental film as \" dead heart \" . \\nthe aboriginal priest best sums this up . \\nhe is asked to say if he is a \" black fella or white fella \" . \\n  \n",
              "3  according to hollywood movies made in last few decades , life in small town is one of the worst things that could happen to a human being . \\neven worse fate awaits those who were unfortunate to grow up in those dark , god-forsaken places and later forced to live forever traumatised by the experience . \\non the other hand , it seems that something more than atlantic ocean divides europe from america , because one of the most popular and beloved european films takes exactly the opposite view . \\nthis film is amarcord , 1974 comedy by famous italian director federico fellini , which later gave inspiration to numerous imitations and homages , and even led few american screen artists to adopt its heretical views about benefits of small town life . \\nthe film is based on the screenplay by fellini and tonino guerra and it lacks the plot in usual sense . \\ninstead we follow one year in 1930s italian summer resort town of rimini through the series of short vignettes that depict various local events and customs , as well as series of local , often very colourful characters . \\nalthough many of those characters occasionally take the role of narrator , movie concentrates on its nominal protagonist , 14-year old boy titta ( played by bruno zanin ) and chronicles his sexual frustrations , obsession with local beauty queen named gradisca ( played by magali noel ) , problems in his lovingly dysfunctional family , as well as troubles his father ( played by armando brancia ) have with mussolini's fascist regime . \\namarcord was often noted as the ultimate nostalgia film , and it probably explains why it is very popular , even among those people who actually don't like federico fellini's work very much . \\nevery member of its potential audience would find part of himself or herself in this film , because fellini in this film clearly illustrates natural human desire to paint past in the best way possible . \\ndistortion between actual past and its subjective interpretation could be found even in the title of the film - word \" amarcord \" is nothing more than badly pronounced phrase \" i remember \" in local italian dialect . \\nin the same way the word is distorted , so is the past in memories of those who remember it . \\nafter the premiere , fellini rejected any claims about autobiographical character of this film , but it doesn't matter whether rimini of amarcord actually resembles rimini of fellini's childhood or not ; any place and any time could resemble characters and situations of this film . \\nfellini's views on nostalgia are clearly illustrated with a way he mixes reality and fantasy in this film . \\neven the most naturalistic scenes are laced with dark humour and grotesque images . \\ncharacters look like caricatures , actors playing them often deliberately overact , and women , especially those who fuel titta's sexual fantasies , often have certain body parts with gargantuan proportions . \\nevery now and then , scenes that depict 1930s reality gradually slide into fantasies of movie's characters and rimini becomes almost indistinguishable from the magical place in characters' visions . \\nbecause of that , almost everything in this film looks different , and in most cases better , than it would have looked in the real life . \\neven the fascism gets fellinian make-over - fellini views mussolini's totalitarian regime as nothing more than visual spectacle ( explaining why similar regimes enjoyed such popular support throughout history ) and opportunity for comedy . \\nwhen fascists finally show their true colours and begin torturing their opponents , even this becomes opportunity for scenes of macabre humour . \\nunlike many of his italian colleagues in 1970s , who had used 1930s period setting to explicitly condemn fascism and serve fashionable political agenda , fellini doesn't care that much about politics . \\nlack of self-righteous moral perspective is compensated with fellini's humanistic approach to his characters . \\neach of them , regardless of age , gender , social class or physical appearance , is given opportunity to express his or her views , dreams and fears . \\nfellini treats all those characters with warmth and affection , even when he paints them as grotesque caricatures of real people . \\nbecause of this warmth and democratic spirit , amarcord could be viewed as one of the most humane films of 20th century , and it keeps its general feel good atmosphere despite depicting having many uncomfortable , melancholic and even tragic moments . \\nfellini couldn't produce such effects without using his own directorial talent that gave a very personal touch to this movie . \\nvignettes aren't memorable because of the characters only ; fellini uses camera , painting film in bright colours , especially in the scenes that depict character's fantasies . \\nfellini also knows how to use locations , whether such location happens to be luxurious hotel , bright-coloured beach or rural countryside . \\neven the down-to-earth streets of rimini , where everyone knows everyone , gets magical dimension during the snowfall . \\non the other hand , lack of credible special effects somewhat diminished the same effect during the ocean liner scene . \\nthis atmosphere is also provided by incredible talent of composer and fellini's long-time associate nino rota . \\nhis amarcord theme is probably one of the most recognisable , most popular and most relaxing and uplifting pieces of film music ever produced . \\nthat music alone should be the reason to view amarcord as one of the indisputable classics of seventh art . \\n  \n",
              "4                                                                                                                                                                                                                                                                                                                                                                                                                                                                                                                                                                                                                                                                                                                                                                                                                                                                                                                                                                                                                                                                                                                                                                                                                                                                                                           my first press screening of 1998 and already i've gotten a prime candidate for my worst ten of the year list . \\nwhat an auspicious beginning ! \\nwelcome to the dog days of winter when the only film openings of merit are those oscar contenders that the studios opened in late december in new york and l . a . and which are just now beginning to appear elsewhere . \\nfirestorm , the directorial debut of dances with wolves's academy award winning cinematographer dean semler , is the first of the new year's crop of movies . \\nas our story opens , the movie pretentiously informs us that of the tens of thousands of firefighters only 400 are \" smokejumpers . \" \\nwe then cut to a plane load of smoke jumping cowboys and one cowgirl , where one of the gung-ho guys is taking a romance quiz from \" cosmopolitan . \" \\nhaving the time of their lives , they then jump into the middle of a burning forest . \\nwhen , even in the beginning , the director can't get the small parts right , you can sense the movie is in trouble . \\nwith the noisy fire roaring all about them and with the trapped people huddled near their gasoline-filled cars , smokejumper monica ( christianne hirt ) tells them to get away from their soon-to-explode vehicles . \\nnot bothering to shout nor even get close to them , she announces her warning without raising her voice much or approaching the people . \\nmiraculously , they manage to hear her and move away . \\nin a movie that specializes in cheap shots , the camera locates the proverbial young girl trapped in a nearby burning building . \\nas it does throughout , overly dramatic cinematographer stephen f . windon from the postman uses extremely fast zooms right down to the endangered girl's face . \\nour show's two heroes , the crew's chief , wynt perkins , played laconically by scott glenn , and his second-in-command , jesse graves , played by howie long in a weak attempt to be the next steven seagal , enter the burning house looking for the little girl . \\nin a panic they have difficulty in locating her before they are engulfed in flames . \\nthe manipulative script has her hidden in her own dollhouse . \\nthis mawkish show cuts back to monica , who has a life-or-death decision to make . \\nthe chopper with the fire-retardant chemicals has only enough to save one group . \\nwill it be the large group near the cars or the helpless little girl and monica's two firefighting buddies ? \\nshe has only seconds to decide who will be saved . \\nyes , she goes for the majority , but , miracle of miracles , the other three come out alive anyway . \\nnot content with a traditional firefighting story , chris soth's screenplay attempts to jazz it up by having william forsythe from palookaville play a vicious killer named randy earl shaye who sets a forest fire so that he can join the crew to put it out and then escape . \\n ( \" hoods in the woods , \" is what the \" ground-pounders \" yell out when the convicts are bused in to help them fight the fire . ) \\nalong the way , shaye picks up an ornithologist hostage played by suzy amis , who turns out to have been trained in warrior ways by her father , who was a marine drill instructor . \\nmost of the highly predictable movie is a long chase in which poor howie long is given one ridiculous stunt after another to look silly performing . \\nhe flings a chain saw backwards over his head while riding a speeding motorcycle so that the saw can hit the windshield of the pursuing truck . \\narguably the low point is when he escapes from a locked burning building by riding a motorcycle conveniently parked inside . \\nusing a ramp , he shoots straight out of the top of the building's attic , and when he hits the ground , he just rides off in a cloud of dust . \\nwhen the film isn't using some stock footage of actual forest fires , the simulated ones look hokey . \\neditor jack hofstra cheapens the action even more by his use of burning flames in scene transitions . \\nthe ending , with its sick twists , manages to be even worse than the rest of the movie . \\nperhaps the best that can be said for the picture is the faint praise i heard afterwards in the lobby , \" it's not as bad as some of the television sitcoms . \" \\nfirestorm runs mercifully just 1 : 29 . \\nit is rated r for violence and language and would be acceptable for teenagers . \\n  "
            ],
            "text/html": [
              "\n",
              "  <div id=\"df-8c26be16-265e-4151-8d4b-70bc40b620e9\" class=\"colab-df-container\">\n",
              "    <div>\n",
              "<style scoped>\n",
              "    .dataframe tbody tr th:only-of-type {\n",
              "        vertical-align: middle;\n",
              "    }\n",
              "\n",
              "    .dataframe tbody tr th {\n",
              "        vertical-align: top;\n",
              "    }\n",
              "\n",
              "    .dataframe thead th {\n",
              "        text-align: right;\n",
              "    }\n",
              "</style>\n",
              "<table border=\"1\" class=\"dataframe\">\n",
              "  <thead>\n",
              "    <tr style=\"text-align: right;\">\n",
              "      <th></th>\n",
              "      <th>label</th>\n",
              "      <th>review</th>\n",
              "    </tr>\n",
              "  </thead>\n",
              "  <tbody>\n",
              "    <tr>\n",
              "      <th>0</th>\n",
              "      <td>neg</td>\n",
              "      <td>how do films like mouse hunt get into theatres ? \\nisn't there a law or something ? \\nthis diabolical load of claptrap from steven speilberg's dreamworks studio is hollywood family fare at its deadly worst . \\nmouse hunt takes the bare threads of a plot and tries to prop it up with overacting and flat-out stupid slapstick that makes comedies like jingle all the way look decent by comparison . \\nwriter adam rifkin and director gore verbinski are the names chiefly responsible for this swill . \\nthe plot , for what its worth , concerns two brothers ( nathan lane and an appalling lee evens ) who inherit a poorly run string factory and a seemingly worthless house from their eccentric father . \\ndeciding to check out the long-abandoned house , they soon learn that it's worth a fortune and set about selling it in auction to the highest bidder . \\nbut battling them at every turn is a very smart mouse , happy with his run-down little abode and wanting it to stay that way . \\nthe story alternates between unfunny scenes of the brothers bickering over what to do with their inheritance and endless action sequences as the two take on their increasingly determined furry foe . \\nwhatever promise the film starts with soon deteriorates into boring dialogue , terrible overacting , and increasingly uninspired slapstick that becomes all sound and fury , signifying nothing . \\nthe script becomes so unspeakably bad that the best line poor lee evens can utter after another run in with the rodent is : \" i hate that mouse \" . \\noh cringe ! \\nthis is home alone all over again , and ten times worse . \\none touching scene early on is worth mentioning . \\nwe follow the mouse through a maze of walls and pipes until he arrives at his makeshift abode somewhere in a wall . \\nhe jumps into a tiny bed , pulls up a makeshift sheet and snuggles up to sleep , seemingly happy and just wanting to be left alone . \\nit's a magical little moment in an otherwise soulless film . \\na message to speilberg : if you want dreamworks to be associated with some kind of artistic credibility , then either give all concerned in mouse hunt a swift kick up the arse or hire yourself some decent writers and directors . \\nthis kind of rubbish will just not do at all . \\n</td>\n",
              "    </tr>\n",
              "    <tr>\n",
              "      <th>1</th>\n",
              "      <td>neg</td>\n",
              "      <td>some talented actresses are blessed with a demonstrated wide acting range while others , almost as gifted , have more limited types of parts for which they are suitable . \\nas was amply evident after basic instinct , sharon stone can play sensual roles with great abandon . \\nrejecting her natural abilities , she has spent the rest of her entire career trying with little success to play against type . \\ngloria is her latest disaster . \\nbabe ruth didn't quit baseball after one season to play football in a quixotic quest to prove his athletic dexterity , and neither should stone reject what she does best . \\njaneane garofalo , for example , is no less wonderful an actress because she could have never pulled off stone's part in basic instinct ; neither is stone any less talented because she couldn't do garofalo's comedic roles . \\ngloria , directed by respected director sidney lumet and adapted by steve antin from the 1980 screenplay by john cassavetes , was not screened in advance for critics , almost always a sign that the studio isn't behind the picture . \\nafter seeing it in a nearly empty audience after it opened , it is clear why they held it from the press . \\nit is a film more to be endured than enjoyed . \\nas the story opens , an angry gloria ( stone ) is being released from prison after 3 years confinement . \\nshe's got a bad attitude and a big mouth . \\nshe also has a bad case of wavering and overblown new york accents , a disease suffered by much of the rest of the cast . \\nan annoying child actor named jean-luke figueroa plays a soon-to-be orphan named nicky . \\njust before his whole family is gunned down by hoods working for gloria's ex-boyfriend kevin ( jeremy northam ) , nicky's dad gives him a banana yellow floppy disk with secrets about kevin's operation and offers him a piece of fatherly advice . \\n \" be a man , \" his father lectures him sternly . \\n \" don't trust nobody . \\nnot no broads . \\nnobody . \" \\nmost of the film's leaden dialog is delivered with the emotive power of the automated time and temperature announcements . \\nadd in the movie's almost non-existent background noise and the excruciatingly slow pacing , and you can hear the sounds of the lines falling to the ground like stones . \\nlumet places his actors in the frames like fruit in a still life painting . \\nthey stand awkwardly mouthing the stiff sentences that pass for discourse . \\n ( \" say you're my baby , \" kevin coos demandingly . \\n \" i'm not gonna , \" gloria pouts back . ) \\nthe movie has a plethora of logical flaws and implausibilites . \\nthe kid rarely seems the least bit worried or scared , no matter how many people are after him with guns , trying to kill him . \\nand in one key scene , the yellow floppy he holds is assumed to be the right disk without checking it and is further assumed never to have been copied . \\ngloria , who keeps saying how she hates kids , takes nicky under her wing and protects him from kevin and the bad guys . \\nthink her maternal instincts will show up before the movie finally and predictably ends ? \\nif you don't know the answer , you may be just the right viewer for this film . \\nyou have to say this for stone : she can keep a straight face . \\nwhen explaining life to a 7-year-old kid , she says with utter seriousness , \" you got a lot of love making to make ; you got a lot of boozing to do . \" \\ngloria runs 1 : 48 . \\nit is rated r for profanity , violence and brief male nudity and would be acceptable for teenagers . \\n</td>\n",
              "    </tr>\n",
              "    <tr>\n",
              "      <th>2</th>\n",
              "      <td>pos</td>\n",
              "      <td>this has been an extraordinary year for australian films . \\n \" shine \" has just scooped the pool at the australian film institute awards , picking up best film , best actor , best director etc . to that we can add the gritty \" life \" ( the anguish , courage and friendship of a group of male prisoners in the hiv-positive section of a jail ) and \" love and other catastrophes \" ( a low budget gem about straight and gay love on and near a university campus ) . \\ni can't recall a year in which such a rich and varied celluloid library was unleashed from australia . \\n \" shine \" was one bookend . \\nstand by for the other one : \" dead heart \" . \\n&gt;from the opening credits the theme of division is established . \\nthe cast credits have clear and distinct lines separating their first and last names . \\nbryan | brown . \\nin a desert settlement , hundreds of kilometres from the nearest town , there is an uneasy calm between the local aboriginals and the handful of white settlers who live nearby . \\nthe local police officer has the task of enforcing \" white man's justice \" to the aboriginals . \\nthese are people with a proud 40 , 000 year heritage behind them . \\nnaturally , this includes their own system of justice ; key to which is \" payback \" . \\nan eye for an eye . \\nrevenge . \\nusually extracted by the spearing through of the recipient's thigh . \\nbrown , as the officer , manages quite well to keep the balance . \\nhe admits that he has to 'bend the rules' a bit , including actively encouraging at least one brutal \" payback \" . \\n ( be warned that this scene , near the start , is not for the squeamish ) . \\nthe local priest - an aboriginal , but in the \" white fellas \" church - has a foot on either side of the line . \\nhe is , figuratively and literally , in both camps . \\nernie dingo brings a great deal of understanding to this role as the man in the middle . \\nhe is part churchman and part politician . \\nhowever the tension , like the heat , flies and dust , is always there . \\nwhilst her husband - the local teacher - is in church , white lady kate ( milliken ) and her aborginal friend tony , ( pedersen ) have gone off into the hills . \\nhe takes her to a sacred site , even today strictly men-only . \\nshe appears to not know this . \\ntony tells her that this is a special place , an initiation place . \\nhe then makes love to her , surrounded by ancient rock art . \\nthe community finds out about this sacrilegious act and it's payback time . \\nthe fuse is lit and the brittle inter-racial peace is shattered . \\neveryone is affected in the fall out . \\nto say more is to give away the details of this finely crafted film . \\nsuffice to say it's a rewarding experience . \\nbryan brown , acting and co-producing , is the pivotal character . \\nhis officer is real , human and therefore flawed . \\nbrown comments that he expects audiences to feel warmth towards the man , then suddenly feel angry about him . \\nit wasn't long ago that i visited central australia - ayers rock ( uluru ) and alice springs - for the first time . \\nthe wide-screen cinematography shows the dead heart of australia in a way that captures it's vicious beauty , but never deteriorates into a moving slide show , in which the gorgeous background dominates those pesky actors in the foreground . \\nthe cultural clash has provided the thesis for many a film ; from the western to the birdcage . \\nat least three excellent australian films have covered the aboriginal people and the line between them and we anglo-saxon 'invaders' : \" jedda \" , \" the chant of jimmie blacksmith \" and \" the last wave \" . \\nin a year when the race 'debate' has reared up in australia , it is nourishing to see such an intelligent , non-judgemental film as \" dead heart \" . \\nthe aboriginal priest best sums this up . \\nhe is asked to say if he is a \" black fella or white fella \" . \\n</td>\n",
              "    </tr>\n",
              "    <tr>\n",
              "      <th>3</th>\n",
              "      <td>pos</td>\n",
              "      <td>according to hollywood movies made in last few decades , life in small town is one of the worst things that could happen to a human being . \\neven worse fate awaits those who were unfortunate to grow up in those dark , god-forsaken places and later forced to live forever traumatised by the experience . \\non the other hand , it seems that something more than atlantic ocean divides europe from america , because one of the most popular and beloved european films takes exactly the opposite view . \\nthis film is amarcord , 1974 comedy by famous italian director federico fellini , which later gave inspiration to numerous imitations and homages , and even led few american screen artists to adopt its heretical views about benefits of small town life . \\nthe film is based on the screenplay by fellini and tonino guerra and it lacks the plot in usual sense . \\ninstead we follow one year in 1930s italian summer resort town of rimini through the series of short vignettes that depict various local events and customs , as well as series of local , often very colourful characters . \\nalthough many of those characters occasionally take the role of narrator , movie concentrates on its nominal protagonist , 14-year old boy titta ( played by bruno zanin ) and chronicles his sexual frustrations , obsession with local beauty queen named gradisca ( played by magali noel ) , problems in his lovingly dysfunctional family , as well as troubles his father ( played by armando brancia ) have with mussolini's fascist regime . \\namarcord was often noted as the ultimate nostalgia film , and it probably explains why it is very popular , even among those people who actually don't like federico fellini's work very much . \\nevery member of its potential audience would find part of himself or herself in this film , because fellini in this film clearly illustrates natural human desire to paint past in the best way possible . \\ndistortion between actual past and its subjective interpretation could be found even in the title of the film - word \" amarcord \" is nothing more than badly pronounced phrase \" i remember \" in local italian dialect . \\nin the same way the word is distorted , so is the past in memories of those who remember it . \\nafter the premiere , fellini rejected any claims about autobiographical character of this film , but it doesn't matter whether rimini of amarcord actually resembles rimini of fellini's childhood or not ; any place and any time could resemble characters and situations of this film . \\nfellini's views on nostalgia are clearly illustrated with a way he mixes reality and fantasy in this film . \\neven the most naturalistic scenes are laced with dark humour and grotesque images . \\ncharacters look like caricatures , actors playing them often deliberately overact , and women , especially those who fuel titta's sexual fantasies , often have certain body parts with gargantuan proportions . \\nevery now and then , scenes that depict 1930s reality gradually slide into fantasies of movie's characters and rimini becomes almost indistinguishable from the magical place in characters' visions . \\nbecause of that , almost everything in this film looks different , and in most cases better , than it would have looked in the real life . \\neven the fascism gets fellinian make-over - fellini views mussolini's totalitarian regime as nothing more than visual spectacle ( explaining why similar regimes enjoyed such popular support throughout history ) and opportunity for comedy . \\nwhen fascists finally show their true colours and begin torturing their opponents , even this becomes opportunity for scenes of macabre humour . \\nunlike many of his italian colleagues in 1970s , who had used 1930s period setting to explicitly condemn fascism and serve fashionable political agenda , fellini doesn't care that much about politics . \\nlack of self-righteous moral perspective is compensated with fellini's humanistic approach to his characters . \\neach of them , regardless of age , gender , social class or physical appearance , is given opportunity to express his or her views , dreams and fears . \\nfellini treats all those characters with warmth and affection , even when he paints them as grotesque caricatures of real people . \\nbecause of this warmth and democratic spirit , amarcord could be viewed as one of the most humane films of 20th century , and it keeps its general feel good atmosphere despite depicting having many uncomfortable , melancholic and even tragic moments . \\nfellini couldn't produce such effects without using his own directorial talent that gave a very personal touch to this movie . \\nvignettes aren't memorable because of the characters only ; fellini uses camera , painting film in bright colours , especially in the scenes that depict character's fantasies . \\nfellini also knows how to use locations , whether such location happens to be luxurious hotel , bright-coloured beach or rural countryside . \\neven the down-to-earth streets of rimini , where everyone knows everyone , gets magical dimension during the snowfall . \\non the other hand , lack of credible special effects somewhat diminished the same effect during the ocean liner scene . \\nthis atmosphere is also provided by incredible talent of composer and fellini's long-time associate nino rota . \\nhis amarcord theme is probably one of the most recognisable , most popular and most relaxing and uplifting pieces of film music ever produced . \\nthat music alone should be the reason to view amarcord as one of the indisputable classics of seventh art . \\n</td>\n",
              "    </tr>\n",
              "    <tr>\n",
              "      <th>4</th>\n",
              "      <td>neg</td>\n",
              "      <td>my first press screening of 1998 and already i've gotten a prime candidate for my worst ten of the year list . \\nwhat an auspicious beginning ! \\nwelcome to the dog days of winter when the only film openings of merit are those oscar contenders that the studios opened in late december in new york and l . a . and which are just now beginning to appear elsewhere . \\nfirestorm , the directorial debut of dances with wolves's academy award winning cinematographer dean semler , is the first of the new year's crop of movies . \\nas our story opens , the movie pretentiously informs us that of the tens of thousands of firefighters only 400 are \" smokejumpers . \" \\nwe then cut to a plane load of smoke jumping cowboys and one cowgirl , where one of the gung-ho guys is taking a romance quiz from \" cosmopolitan . \" \\nhaving the time of their lives , they then jump into the middle of a burning forest . \\nwhen , even in the beginning , the director can't get the small parts right , you can sense the movie is in trouble . \\nwith the noisy fire roaring all about them and with the trapped people huddled near their gasoline-filled cars , smokejumper monica ( christianne hirt ) tells them to get away from their soon-to-explode vehicles . \\nnot bothering to shout nor even get close to them , she announces her warning without raising her voice much or approaching the people . \\nmiraculously , they manage to hear her and move away . \\nin a movie that specializes in cheap shots , the camera locates the proverbial young girl trapped in a nearby burning building . \\nas it does throughout , overly dramatic cinematographer stephen f . windon from the postman uses extremely fast zooms right down to the endangered girl's face . \\nour show's two heroes , the crew's chief , wynt perkins , played laconically by scott glenn , and his second-in-command , jesse graves , played by howie long in a weak attempt to be the next steven seagal , enter the burning house looking for the little girl . \\nin a panic they have difficulty in locating her before they are engulfed in flames . \\nthe manipulative script has her hidden in her own dollhouse . \\nthis mawkish show cuts back to monica , who has a life-or-death decision to make . \\nthe chopper with the fire-retardant chemicals has only enough to save one group . \\nwill it be the large group near the cars or the helpless little girl and monica's two firefighting buddies ? \\nshe has only seconds to decide who will be saved . \\nyes , she goes for the majority , but , miracle of miracles , the other three come out alive anyway . \\nnot content with a traditional firefighting story , chris soth's screenplay attempts to jazz it up by having william forsythe from palookaville play a vicious killer named randy earl shaye who sets a forest fire so that he can join the crew to put it out and then escape . \\n ( \" hoods in the woods , \" is what the \" ground-pounders \" yell out when the convicts are bused in to help them fight the fire . ) \\nalong the way , shaye picks up an ornithologist hostage played by suzy amis , who turns out to have been trained in warrior ways by her father , who was a marine drill instructor . \\nmost of the highly predictable movie is a long chase in which poor howie long is given one ridiculous stunt after another to look silly performing . \\nhe flings a chain saw backwards over his head while riding a speeding motorcycle so that the saw can hit the windshield of the pursuing truck . \\narguably the low point is when he escapes from a locked burning building by riding a motorcycle conveniently parked inside . \\nusing a ramp , he shoots straight out of the top of the building's attic , and when he hits the ground , he just rides off in a cloud of dust . \\nwhen the film isn't using some stock footage of actual forest fires , the simulated ones look hokey . \\neditor jack hofstra cheapens the action even more by his use of burning flames in scene transitions . \\nthe ending , with its sick twists , manages to be even worse than the rest of the movie . \\nperhaps the best that can be said for the picture is the faint praise i heard afterwards in the lobby , \" it's not as bad as some of the television sitcoms . \" \\nfirestorm runs mercifully just 1 : 29 . \\nit is rated r for violence and language and would be acceptable for teenagers . \\n</td>\n",
              "    </tr>\n",
              "  </tbody>\n",
              "</table>\n",
              "</div>\n",
              "    <div class=\"colab-df-buttons\">\n",
              "\n",
              "  <div class=\"colab-df-container\">\n",
              "    <button class=\"colab-df-convert\" onclick=\"convertToInteractive('df-8c26be16-265e-4151-8d4b-70bc40b620e9')\"\n",
              "            title=\"Convert this dataframe to an interactive table.\"\n",
              "            style=\"display:none;\">\n",
              "\n",
              "  <svg xmlns=\"http://www.w3.org/2000/svg\" height=\"24px\" viewBox=\"0 -960 960 960\">\n",
              "    <path d=\"M120-120v-720h720v720H120Zm60-500h600v-160H180v160Zm220 220h160v-160H400v160Zm0 220h160v-160H400v160ZM180-400h160v-160H180v160Zm440 0h160v-160H620v160ZM180-180h160v-160H180v160Zm440 0h160v-160H620v160Z\"/>\n",
              "  </svg>\n",
              "    </button>\n",
              "\n",
              "  <style>\n",
              "    .colab-df-container {\n",
              "      display:flex;\n",
              "      gap: 12px;\n",
              "    }\n",
              "\n",
              "    .colab-df-convert {\n",
              "      background-color: #E8F0FE;\n",
              "      border: none;\n",
              "      border-radius: 50%;\n",
              "      cursor: pointer;\n",
              "      display: none;\n",
              "      fill: #1967D2;\n",
              "      height: 32px;\n",
              "      padding: 0 0 0 0;\n",
              "      width: 32px;\n",
              "    }\n",
              "\n",
              "    .colab-df-convert:hover {\n",
              "      background-color: #E2EBFA;\n",
              "      box-shadow: 0px 1px 2px rgba(60, 64, 67, 0.3), 0px 1px 3px 1px rgba(60, 64, 67, 0.15);\n",
              "      fill: #174EA6;\n",
              "    }\n",
              "\n",
              "    .colab-df-buttons div {\n",
              "      margin-bottom: 4px;\n",
              "    }\n",
              "\n",
              "    [theme=dark] .colab-df-convert {\n",
              "      background-color: #3B4455;\n",
              "      fill: #D2E3FC;\n",
              "    }\n",
              "\n",
              "    [theme=dark] .colab-df-convert:hover {\n",
              "      background-color: #434B5C;\n",
              "      box-shadow: 0px 1px 3px 1px rgba(0, 0, 0, 0.15);\n",
              "      filter: drop-shadow(0px 1px 2px rgba(0, 0, 0, 0.3));\n",
              "      fill: #FFFFFF;\n",
              "    }\n",
              "  </style>\n",
              "\n",
              "    <script>\n",
              "      const buttonEl =\n",
              "        document.querySelector('#df-8c26be16-265e-4151-8d4b-70bc40b620e9 button.colab-df-convert');\n",
              "      buttonEl.style.display =\n",
              "        google.colab.kernel.accessAllowed ? 'block' : 'none';\n",
              "\n",
              "      async function convertToInteractive(key) {\n",
              "        const element = document.querySelector('#df-8c26be16-265e-4151-8d4b-70bc40b620e9');\n",
              "        const dataTable =\n",
              "          await google.colab.kernel.invokeFunction('convertToInteractive',\n",
              "                                                    [key], {});\n",
              "        if (!dataTable) return;\n",
              "\n",
              "        const docLinkHtml = 'Like what you see? Visit the ' +\n",
              "          '<a target=\"_blank\" href=https://colab.research.google.com/notebooks/data_table.ipynb>data table notebook</a>'\n",
              "          + ' to learn more about interactive tables.';\n",
              "        element.innerHTML = '';\n",
              "        dataTable['output_type'] = 'display_data';\n",
              "        await google.colab.output.renderOutput(dataTable, element);\n",
              "        const docLink = document.createElement('div');\n",
              "        docLink.innerHTML = docLinkHtml;\n",
              "        element.appendChild(docLink);\n",
              "      }\n",
              "    </script>\n",
              "  </div>\n",
              "\n",
              "\n",
              "<div id=\"df-d0bf6ea8-3e00-425d-868c-0ba23baaa65e\">\n",
              "  <button class=\"colab-df-quickchart\" onclick=\"quickchart('df-d0bf6ea8-3e00-425d-868c-0ba23baaa65e')\"\n",
              "            title=\"Suggest charts\"\n",
              "            style=\"display:none;\">\n",
              "\n",
              "<svg xmlns=\"http://www.w3.org/2000/svg\" height=\"24px\"viewBox=\"0 0 24 24\"\n",
              "     width=\"24px\">\n",
              "    <g>\n",
              "        <path d=\"M19 3H5c-1.1 0-2 .9-2 2v14c0 1.1.9 2 2 2h14c1.1 0 2-.9 2-2V5c0-1.1-.9-2-2-2zM9 17H7v-7h2v7zm4 0h-2V7h2v10zm4 0h-2v-4h2v4z\"/>\n",
              "    </g>\n",
              "</svg>\n",
              "  </button>\n",
              "\n",
              "<style>\n",
              "  .colab-df-quickchart {\n",
              "      --bg-color: #E8F0FE;\n",
              "      --fill-color: #1967D2;\n",
              "      --hover-bg-color: #E2EBFA;\n",
              "      --hover-fill-color: #174EA6;\n",
              "      --disabled-fill-color: #AAA;\n",
              "      --disabled-bg-color: #DDD;\n",
              "  }\n",
              "\n",
              "  [theme=dark] .colab-df-quickchart {\n",
              "      --bg-color: #3B4455;\n",
              "      --fill-color: #D2E3FC;\n",
              "      --hover-bg-color: #434B5C;\n",
              "      --hover-fill-color: #FFFFFF;\n",
              "      --disabled-bg-color: #3B4455;\n",
              "      --disabled-fill-color: #666;\n",
              "  }\n",
              "\n",
              "  .colab-df-quickchart {\n",
              "    background-color: var(--bg-color);\n",
              "    border: none;\n",
              "    border-radius: 50%;\n",
              "    cursor: pointer;\n",
              "    display: none;\n",
              "    fill: var(--fill-color);\n",
              "    height: 32px;\n",
              "    padding: 0;\n",
              "    width: 32px;\n",
              "  }\n",
              "\n",
              "  .colab-df-quickchart:hover {\n",
              "    background-color: var(--hover-bg-color);\n",
              "    box-shadow: 0 1px 2px rgba(60, 64, 67, 0.3), 0 1px 3px 1px rgba(60, 64, 67, 0.15);\n",
              "    fill: var(--button-hover-fill-color);\n",
              "  }\n",
              "\n",
              "  .colab-df-quickchart-complete:disabled,\n",
              "  .colab-df-quickchart-complete:disabled:hover {\n",
              "    background-color: var(--disabled-bg-color);\n",
              "    fill: var(--disabled-fill-color);\n",
              "    box-shadow: none;\n",
              "  }\n",
              "\n",
              "  .colab-df-spinner {\n",
              "    border: 2px solid var(--fill-color);\n",
              "    border-color: transparent;\n",
              "    border-bottom-color: var(--fill-color);\n",
              "    animation:\n",
              "      spin 1s steps(1) infinite;\n",
              "  }\n",
              "\n",
              "  @keyframes spin {\n",
              "    0% {\n",
              "      border-color: transparent;\n",
              "      border-bottom-color: var(--fill-color);\n",
              "      border-left-color: var(--fill-color);\n",
              "    }\n",
              "    20% {\n",
              "      border-color: transparent;\n",
              "      border-left-color: var(--fill-color);\n",
              "      border-top-color: var(--fill-color);\n",
              "    }\n",
              "    30% {\n",
              "      border-color: transparent;\n",
              "      border-left-color: var(--fill-color);\n",
              "      border-top-color: var(--fill-color);\n",
              "      border-right-color: var(--fill-color);\n",
              "    }\n",
              "    40% {\n",
              "      border-color: transparent;\n",
              "      border-right-color: var(--fill-color);\n",
              "      border-top-color: var(--fill-color);\n",
              "    }\n",
              "    60% {\n",
              "      border-color: transparent;\n",
              "      border-right-color: var(--fill-color);\n",
              "    }\n",
              "    80% {\n",
              "      border-color: transparent;\n",
              "      border-right-color: var(--fill-color);\n",
              "      border-bottom-color: var(--fill-color);\n",
              "    }\n",
              "    90% {\n",
              "      border-color: transparent;\n",
              "      border-bottom-color: var(--fill-color);\n",
              "    }\n",
              "  }\n",
              "</style>\n",
              "\n",
              "  <script>\n",
              "    async function quickchart(key) {\n",
              "      const quickchartButtonEl =\n",
              "        document.querySelector('#' + key + ' button');\n",
              "      quickchartButtonEl.disabled = true;  // To prevent multiple clicks.\n",
              "      quickchartButtonEl.classList.add('colab-df-spinner');\n",
              "      try {\n",
              "        const charts = await google.colab.kernel.invokeFunction(\n",
              "            'suggestCharts', [key], {});\n",
              "      } catch (error) {\n",
              "        console.error('Error during call to suggestCharts:', error);\n",
              "      }\n",
              "      quickchartButtonEl.classList.remove('colab-df-spinner');\n",
              "      quickchartButtonEl.classList.add('colab-df-quickchart-complete');\n",
              "    }\n",
              "    (() => {\n",
              "      let quickchartButtonEl =\n",
              "        document.querySelector('#df-d0bf6ea8-3e00-425d-868c-0ba23baaa65e button');\n",
              "      quickchartButtonEl.style.display =\n",
              "        google.colab.kernel.accessAllowed ? 'block' : 'none';\n",
              "    })();\n",
              "  </script>\n",
              "</div>\n",
              "\n",
              "    </div>\n",
              "  </div>\n"
            ],
            "application/vnd.google.colaboratory.intrinsic+json": {
              "type": "dataframe",
              "variable_name": "df",
              "summary": "{\n  \"name\": \"df\",\n  \"rows\": 2000,\n  \"fields\": [\n    {\n      \"column\": \"label\",\n      \"properties\": {\n        \"dtype\": \"category\",\n        \"num_unique_values\": 2,\n        \"samples\": [\n          \"pos\",\n          \"neg\"\n        ],\n        \"semantic_type\": \"\",\n        \"description\": \"\"\n      }\n    },\n    {\n      \"column\": \"review\",\n      \"properties\": {\n        \"dtype\": \"string\",\n        \"num_unique_values\": 1939,\n        \"samples\": [\n          \"mulholland drive did very well at the cannes film festival . \\nas you can see from the rating it did not do very well from me at the toronto international film festival . \\nit may not be clear to the viewer why i am so negative on this film for most of the running time . \\nin fact it is an interesting mystery story told on the backdrop of the hollywood film industry . \\ntoward the end of the film i think everything that has been built falls apart . \\nthe film was to be a pilot for a tv series but writer and director david lynch did not sell his tv pilot and i think he decided that he wanted to do something else with it . \\nsomething else is what he did . \\nthe film opens with a woman ( played by laura harring ) about to be killed in a car when a car crash saves her life . \\nshe crawls away from the accident with a concussion and finds herself a bungalow with an unlocked door to sleep . \\nmeanwhile young vivacious betty ( naomi watts ) arrives in hollywood from canada . \\nshe wants to build a career as an actress . \\nbetty is a little surprised to find a woman sleeping in the borrowed bungalow . \\nshe does not know who the woman is . \\nshe is even more surprised when the woman awakes and does not herself know who she is . \\nthey fix on a name rita for her , but are not sure if this right or not . \\nmeanwhile local director adam kesher ( justin theroux ) has problems of his own . \\nhe is trying to cast one actress for his new film and is getting pressure from the producers and from crime figures to cast someone else , cammie rhodes ( melissa george ) . \\nthese two threads are joined by a third one in which there is a strange and comic murder that goes terribly wrong . \\nthere is also a strange character called the cowboy ( monty montgomery ) adding to the confusion . \\nin what was probably intended for the television pilot the film opens with a great vibrancy showing dancing 60s style under the credits . \\na lot of mulholland drive starts out fun . \\nlynch wants you to know he could make an enjoyable stylish film . \\nhe just chooses not to . \\nas with any david lynch film there is strange material added for little reason . \\nthere are no earthworms , but there are some decidedly strange david lynch touches . \\nthe film is a little long for the subject matter . \\ntoward the end it gets into some heavier violence and sex scenes , clearly not intended for the tv pilot . \\nunfortunately some of the most important comments to make about this film would be spoilers . \\ni will not mention them in the main body of the review but i give mulholland drive a 4 on the 0 to 10 scale and a low 0 on the -4 to +4 scale . \\nmulholland drive spoiler warning . \\ni have rated this film fairly low . \\nyou should read this only after seeing the film or deciding that you will not see the film . \\ndavid lynch is in large part a dark satirist . \\nmost of his work is done in familiar genres but in some way shows their underside . \\nin mulholland drive i think he is having a laugh at the expense of the crime film genre . \\nwhat he does with this film is ( are you sure you want to read this ? ) \\nplaying off the audience expectations that there will be a simple explanation for what is going on . \\nthe first 80% of the film he tells a simple multi-thread crime story with clues sprinkled throughout . \\nthen suddenly at the end he turns the story on its ear with a large number of clues that appear that they should add up to something . \\nthe audience expectation is that they will add up . \\nbut he has given clues that are self-contradictory . \\nlynch wants the audience to argue about what they have seen afterward and come up with theories . \\nin fact , the pointers are noticeably contradictory and until i hear a better explanation , i think lynch is merely playing a joke . \\nthere is a visual curiosity that was popular in the sixties . \\nmad magazine called it a poiuyt . \\nother sources called it a tri- pronged u-bar . \\nlook at small portions of it and makes sense . \\nlook at the whole figure and it does not . \\nthis film is , in my estimation , the cinematic equivalent of a tri-pronged u-bar . \\n\",\n          \"unzipped is a cinematic portrait of isaac mizrahi , an artist whose palette is fabric . \\nostensibly , the film is a documentary , but use of that term requires stretching its meaning . \\nmany scenes appear staged , and a great deal of cutting-and-pasting has been done in the editing room . \\nthe cinema verite effect is a conceit -- genuine spontaneity is at a premium , and everyone is aware of and playing to the camera ( especially would-be actresses like cindy crawford ) . \\ndirector douglas keeve ( who was mizrahi's lover at the time ) freely admits that he \\\" couldn't care less about the truth \\\" but was more interested in capturing \\\" the spirit and love in isaac and in fashion . \\\" \\ndespite violating nearly every rule of \\\" legitimate \\\" documentary film making , however , unzipped is a remarkably enjoyable piece of entertainment . \\nwhile it sheds only a little light on the behind-the-scenes world of the fashion industry , it presents a fascinating , if incomplete , picture of designer mizrahi . \\nthis man is the perfect subject for this kind of study -- he's funny , energetic , and eminently quotable . \\nhe has unusual views on just about everything , from fashion ( \\\" it's about women not wanting to look like cows \\\" ) to mary tyler moore ( \\\" between her and jackie kennedy , they shaped this country \\\" ) to style ( \\\" it's almost impossible to have style nowadays without the right dogs \\\" ) . \\nunzipped also gives a glimpse into the creative process by which mizrahi turns an idea into a dress . \\nit's almost certainly different that anyone would imagine . \\nthe designer draws on a variety of sources for his look , including nanook of the north and old bette davis movies , then enlists the aid of a ouija board to help form the collection . \\nin particular , unzipped traces mizrahi's development of his fall 1994 line from its inception in the spring to the final fashion show , which highlights a number of prominent models , including cindy crawford , naomi campbell , kate bush , and linda evangelista . \\non the technical side , a number of interesting choices were made in filming unzipped . \\na variety of film stocks were used : super 8 , 16 mm black-and-white , and 35 mm color . \\nthere is a purpose to this beyond simple artiness -- the stock often serves as an emotional key to the movie , and , during the climactic fashion show , color is used to show the audience's perspective , while black-and-white is for the behind-the- scenes sequences . \\nnevertheless , some viewers will be put off by this treatment . \\nwhile unzipped isn't an expose on the fashion industry per se , keeve has enough clips of petulant models to make the viewer realize how tame robert altman was with ready to wear . \\noverall , however , this movie is far more about mizrahi than anything else , and only when viewed from that perspective does unzipped succeed . \\nwhen the designer declares that \\\" everything is frustrating except designing clothes -- that's beautiful and liberating , \\\" it fits perfectly with the image of him that unzipped has constructed . \\n\"\n        ],\n        \"semantic_type\": \"\",\n        \"description\": \"\"\n      }\n    }\n  ]\n}"
            }
          },
          "metadata": {},
          "execution_count": 11
        }
      ]
    },
    {
      "cell_type": "code",
      "source": [
        "# Punctuation Removal\n",
        "def clean_raw_text(text):\n",
        "    text = str(text)\n",
        "    text = re.sub(r\"[^a-zA-Z0-9\\s]\", \"\", text)  # remove punctuations except space\n",
        "    text = re.sub(r\"\\s+\", \" \", text).strip()    # remove extra whitespaces\n",
        "    return text\n",
        "\n",
        "df['clean_text'] = df['review'].apply(clean_raw_text)\n",
        "df['clean_text'].head()"
      ],
      "metadata": {
        "colab": {
          "base_uri": "https://localhost:8080/",
          "height": 1000
        },
        "id": "eRl-euUT-Lb-",
        "outputId": "874c0fc3-339a-4cef-8b60-5f3ba6366a48"
      },
      "execution_count": null,
      "outputs": [
        {
          "output_type": "execute_result",
          "data": {
            "text/plain": [
              "0                                                                                                                                                                                                                                                                                                                                                                                                                                                                                                                                                                                                                                                                                                                                                                                                                                                                                                                                                                                                                                                                                                                                                                                                                                                                                                                                                                                                                                                                                                                                                                                                                                                                                                                                                                                                                                                                                                                                                                                                                                                                                                                                                                                                                                                                                                                                                                                                                                                                                                                                                                                                                                                                                                                                                                                                                                                                                                                                                                                                                                                                                                                                                                                                                                                                                                       how do films like mouse hunt get into theatres isnt there a law or something this diabolical load of claptrap from steven speilbergs dreamworks studio is hollywood family fare at its deadly worst mouse hunt takes the bare threads of a plot and tries to prop it up with overacting and flatout stupid slapstick that makes comedies like jingle all the way look decent by comparison writer adam rifkin and director gore verbinski are the names chiefly responsible for this swill the plot for what its worth concerns two brothers nathan lane and an appalling lee evens who inherit a poorly run string factory and a seemingly worthless house from their eccentric father deciding to check out the longabandoned house they soon learn that its worth a fortune and set about selling it in auction to the highest bidder but battling them at every turn is a very smart mouse happy with his rundown little abode and wanting it to stay that way the story alternates between unfunny scenes of the brothers bickering over what to do with their inheritance and endless action sequences as the two take on their increasingly determined furry foe whatever promise the film starts with soon deteriorates into boring dialogue terrible overacting and increasingly uninspired slapstick that becomes all sound and fury signifying nothing the script becomes so unspeakably bad that the best line poor lee evens can utter after another run in with the rodent is i hate that mouse oh cringe this is home alone all over again and ten times worse one touching scene early on is worth mentioning we follow the mouse through a maze of walls and pipes until he arrives at his makeshift abode somewhere in a wall he jumps into a tiny bed pulls up a makeshift sheet and snuggles up to sleep seemingly happy and just wanting to be left alone its a magical little moment in an otherwise soulless film a message to speilberg if you want dreamworks to be associated with some kind of artistic credibility then either give all concerned in mouse hunt a swift kick up the arse or hire yourself some decent writers and directors this kind of rubbish will just not do at all\n",
              "1                                                                                                                                                                                                                                                                                                                                                                                                                                                                                                                                                                                                                                                                                                                                                                                                                                                                                                                                                                                                                                                                                                                                                                                                                                                                                                                                                                                                                                                                                                                                                                                                                                                                                                                                                                                                                                                                                                                                                                                                                                                                                                                                             some talented actresses are blessed with a demonstrated wide acting range while others almost as gifted have more limited types of parts for which they are suitable as was amply evident after basic instinct sharon stone can play sensual roles with great abandon rejecting her natural abilities she has spent the rest of her entire career trying with little success to play against type gloria is her latest disaster babe ruth didnt quit baseball after one season to play football in a quixotic quest to prove his athletic dexterity and neither should stone reject what she does best janeane garofalo for example is no less wonderful an actress because she could have never pulled off stones part in basic instinct neither is stone any less talented because she couldnt do garofalos comedic roles gloria directed by respected director sidney lumet and adapted by steve antin from the 1980 screenplay by john cassavetes was not screened in advance for critics almost always a sign that the studio isnt behind the picture after seeing it in a nearly empty audience after it opened it is clear why they held it from the press it is a film more to be endured than enjoyed as the story opens an angry gloria stone is being released from prison after 3 years confinement shes got a bad attitude and a big mouth she also has a bad case of wavering and overblown new york accents a disease suffered by much of the rest of the cast an annoying child actor named jeanluke figueroa plays a soontobe orphan named nicky just before his whole family is gunned down by hoods working for glorias exboyfriend kevin jeremy northam nickys dad gives him a banana yellow floppy disk with secrets about kevins operation and offers him a piece of fatherly advice be a man his father lectures him sternly dont trust nobody not no broads nobody most of the films leaden dialog is delivered with the emotive power of the automated time and temperature announcements add in the movies almost nonexistent background noise and the excruciatingly slow pacing and you can hear the sounds of the lines falling to the ground like stones lumet places his actors in the frames like fruit in a still life painting they stand awkwardly mouthing the stiff sentences that pass for discourse say youre my baby kevin coos demandingly im not gonna gloria pouts back the movie has a plethora of logical flaws and implausibilites the kid rarely seems the least bit worried or scared no matter how many people are after him with guns trying to kill him and in one key scene the yellow floppy he holds is assumed to be the right disk without checking it and is further assumed never to have been copied gloria who keeps saying how she hates kids takes nicky under her wing and protects him from kevin and the bad guys think her maternal instincts will show up before the movie finally and predictably ends if you dont know the answer you may be just the right viewer for this film you have to say this for stone she can keep a straight face when explaining life to a 7yearold kid she says with utter seriousness you got a lot of love making to make you got a lot of boozing to do gloria runs 1 48 it is rated r for profanity violence and brief male nudity and would be acceptable for teenagers\n",
              "2                                                                                                                                                                                                                                                                                                                                                                                                                                                                                                                                                                                                                                                                                                                                                                                                                                                                                                                                                                                                                                                                                                                                                                                                                                                                                                                                                                                                                                                                                                                                                                                                                                                                                                                                                                                                                                                                             this has been an extraordinary year for australian films shine has just scooped the pool at the australian film institute awards picking up best film best actor best director etc to that we can add the gritty life the anguish courage and friendship of a group of male prisoners in the hivpositive section of a jail and love and other catastrophes a low budget gem about straight and gay love on and near a university campus i cant recall a year in which such a rich and varied celluloid library was unleashed from australia shine was one bookend stand by for the other one dead heart from the opening credits the theme of division is established the cast credits have clear and distinct lines separating their first and last names bryan brown in a desert settlement hundreds of kilometres from the nearest town there is an uneasy calm between the local aboriginals and the handful of white settlers who live nearby the local police officer has the task of enforcing white mans justice to the aboriginals these are people with a proud 40 000 year heritage behind them naturally this includes their own system of justice key to which is payback an eye for an eye revenge usually extracted by the spearing through of the recipients thigh brown as the officer manages quite well to keep the balance he admits that he has to bend the rules a bit including actively encouraging at least one brutal payback be warned that this scene near the start is not for the squeamish the local priest an aboriginal but in the white fellas church has a foot on either side of the line he is figuratively and literally in both camps ernie dingo brings a great deal of understanding to this role as the man in the middle he is part churchman and part politician however the tension like the heat flies and dust is always there whilst her husband the local teacher is in church white lady kate milliken and her aborginal friend tony pedersen have gone off into the hills he takes her to a sacred site even today strictly menonly she appears to not know this tony tells her that this is a special place an initiation place he then makes love to her surrounded by ancient rock art the community finds out about this sacrilegious act and its payback time the fuse is lit and the brittle interracial peace is shattered everyone is affected in the fall out to say more is to give away the details of this finely crafted film suffice to say its a rewarding experience bryan brown acting and coproducing is the pivotal character his officer is real human and therefore flawed brown comments that he expects audiences to feel warmth towards the man then suddenly feel angry about him it wasnt long ago that i visited central australia ayers rock uluru and alice springs for the first time the widescreen cinematography shows the dead heart of australia in a way that captures its vicious beauty but never deteriorates into a moving slide show in which the gorgeous background dominates those pesky actors in the foreground the cultural clash has provided the thesis for many a film from the western to the birdcage at least three excellent australian films have covered the aboriginal people and the line between them and we anglosaxon invaders jedda the chant of jimmie blacksmith and the last wave in a year when the race debate has reared up in australia it is nourishing to see such an intelligent nonjudgemental film as dead heart the aboriginal priest best sums this up he is asked to say if he is a black fella or white fella\n",
              "3    according to hollywood movies made in last few decades life in small town is one of the worst things that could happen to a human being even worse fate awaits those who were unfortunate to grow up in those dark godforsaken places and later forced to live forever traumatised by the experience on the other hand it seems that something more than atlantic ocean divides europe from america because one of the most popular and beloved european films takes exactly the opposite view this film is amarcord 1974 comedy by famous italian director federico fellini which later gave inspiration to numerous imitations and homages and even led few american screen artists to adopt its heretical views about benefits of small town life the film is based on the screenplay by fellini and tonino guerra and it lacks the plot in usual sense instead we follow one year in 1930s italian summer resort town of rimini through the series of short vignettes that depict various local events and customs as well as series of local often very colourful characters although many of those characters occasionally take the role of narrator movie concentrates on its nominal protagonist 14year old boy titta played by bruno zanin and chronicles his sexual frustrations obsession with local beauty queen named gradisca played by magali noel problems in his lovingly dysfunctional family as well as troubles his father played by armando brancia have with mussolinis fascist regime amarcord was often noted as the ultimate nostalgia film and it probably explains why it is very popular even among those people who actually dont like federico fellinis work very much every member of its potential audience would find part of himself or herself in this film because fellini in this film clearly illustrates natural human desire to paint past in the best way possible distortion between actual past and its subjective interpretation could be found even in the title of the film word amarcord is nothing more than badly pronounced phrase i remember in local italian dialect in the same way the word is distorted so is the past in memories of those who remember it after the premiere fellini rejected any claims about autobiographical character of this film but it doesnt matter whether rimini of amarcord actually resembles rimini of fellinis childhood or not any place and any time could resemble characters and situations of this film fellinis views on nostalgia are clearly illustrated with a way he mixes reality and fantasy in this film even the most naturalistic scenes are laced with dark humour and grotesque images characters look like caricatures actors playing them often deliberately overact and women especially those who fuel tittas sexual fantasies often have certain body parts with gargantuan proportions every now and then scenes that depict 1930s reality gradually slide into fantasies of movies characters and rimini becomes almost indistinguishable from the magical place in characters visions because of that almost everything in this film looks different and in most cases better than it would have looked in the real life even the fascism gets fellinian makeover fellini views mussolinis totalitarian regime as nothing more than visual spectacle explaining why similar regimes enjoyed such popular support throughout history and opportunity for comedy when fascists finally show their true colours and begin torturing their opponents even this becomes opportunity for scenes of macabre humour unlike many of his italian colleagues in 1970s who had used 1930s period setting to explicitly condemn fascism and serve fashionable political agenda fellini doesnt care that much about politics lack of selfrighteous moral perspective is compensated with fellinis humanistic approach to his characters each of them regardless of age gender social class or physical appearance is given opportunity to express his or her views dreams and fears fellini treats all those characters with warmth and affection even when he paints them as grotesque caricatures of real people because of this warmth and democratic spirit amarcord could be viewed as one of the most humane films of 20th century and it keeps its general feel good atmosphere despite depicting having many uncomfortable melancholic and even tragic moments fellini couldnt produce such effects without using his own directorial talent that gave a very personal touch to this movie vignettes arent memorable because of the characters only fellini uses camera painting film in bright colours especially in the scenes that depict characters fantasies fellini also knows how to use locations whether such location happens to be luxurious hotel brightcoloured beach or rural countryside even the downtoearth streets of rimini where everyone knows everyone gets magical dimension during the snowfall on the other hand lack of credible special effects somewhat diminished the same effect during the ocean liner scene this atmosphere is also provided by incredible talent of composer and fellinis longtime associate nino rota his amarcord theme is probably one of the most recognisable most popular and most relaxing and uplifting pieces of film music ever produced that music alone should be the reason to view amarcord as one of the indisputable classics of seventh art\n",
              "4                                                                                                                                                                                                                                                                                                                                                                                                                                                                                                                                                                                                                                                                                                                                                                                                                                                                                                                                                                                                                                                                                                                                                                                                                                                                                                  my first press screening of 1998 and already ive gotten a prime candidate for my worst ten of the year list what an auspicious beginning welcome to the dog days of winter when the only film openings of merit are those oscar contenders that the studios opened in late december in new york and l a and which are just now beginning to appear elsewhere firestorm the directorial debut of dances with wolvess academy award winning cinematographer dean semler is the first of the new years crop of movies as our story opens the movie pretentiously informs us that of the tens of thousands of firefighters only 400 are smokejumpers we then cut to a plane load of smoke jumping cowboys and one cowgirl where one of the gungho guys is taking a romance quiz from cosmopolitan having the time of their lives they then jump into the middle of a burning forest when even in the beginning the director cant get the small parts right you can sense the movie is in trouble with the noisy fire roaring all about them and with the trapped people huddled near their gasolinefilled cars smokejumper monica christianne hirt tells them to get away from their soontoexplode vehicles not bothering to shout nor even get close to them she announces her warning without raising her voice much or approaching the people miraculously they manage to hear her and move away in a movie that specializes in cheap shots the camera locates the proverbial young girl trapped in a nearby burning building as it does throughout overly dramatic cinematographer stephen f windon from the postman uses extremely fast zooms right down to the endangered girls face our shows two heroes the crews chief wynt perkins played laconically by scott glenn and his secondincommand jesse graves played by howie long in a weak attempt to be the next steven seagal enter the burning house looking for the little girl in a panic they have difficulty in locating her before they are engulfed in flames the manipulative script has her hidden in her own dollhouse this mawkish show cuts back to monica who has a lifeordeath decision to make the chopper with the fireretardant chemicals has only enough to save one group will it be the large group near the cars or the helpless little girl and monicas two firefighting buddies she has only seconds to decide who will be saved yes she goes for the majority but miracle of miracles the other three come out alive anyway not content with a traditional firefighting story chris soths screenplay attempts to jazz it up by having william forsythe from palookaville play a vicious killer named randy earl shaye who sets a forest fire so that he can join the crew to put it out and then escape hoods in the woods is what the groundpounders yell out when the convicts are bused in to help them fight the fire along the way shaye picks up an ornithologist hostage played by suzy amis who turns out to have been trained in warrior ways by her father who was a marine drill instructor most of the highly predictable movie is a long chase in which poor howie long is given one ridiculous stunt after another to look silly performing he flings a chain saw backwards over his head while riding a speeding motorcycle so that the saw can hit the windshield of the pursuing truck arguably the low point is when he escapes from a locked burning building by riding a motorcycle conveniently parked inside using a ramp he shoots straight out of the top of the buildings attic and when he hits the ground he just rides off in a cloud of dust when the film isnt using some stock footage of actual forest fires the simulated ones look hokey editor jack hofstra cheapens the action even more by his use of burning flames in scene transitions the ending with its sick twists manages to be even worse than the rest of the movie perhaps the best that can be said for the picture is the faint praise i heard afterwards in the lobby its not as bad as some of the television sitcoms firestorm runs mercifully just 1 29 it is rated r for violence and language and would be acceptable for teenagers\n",
              "Name: clean_text, dtype: object"
            ],
            "text/html": [
              "<div>\n",
              "<style scoped>\n",
              "    .dataframe tbody tr th:only-of-type {\n",
              "        vertical-align: middle;\n",
              "    }\n",
              "\n",
              "    .dataframe tbody tr th {\n",
              "        vertical-align: top;\n",
              "    }\n",
              "\n",
              "    .dataframe thead th {\n",
              "        text-align: right;\n",
              "    }\n",
              "</style>\n",
              "<table border=\"1\" class=\"dataframe\">\n",
              "  <thead>\n",
              "    <tr style=\"text-align: right;\">\n",
              "      <th></th>\n",
              "      <th>clean_text</th>\n",
              "    </tr>\n",
              "  </thead>\n",
              "  <tbody>\n",
              "    <tr>\n",
              "      <th>0</th>\n",
              "      <td>how do films like mouse hunt get into theatres isnt there a law or something this diabolical load of claptrap from steven speilbergs dreamworks studio is hollywood family fare at its deadly worst mouse hunt takes the bare threads of a plot and tries to prop it up with overacting and flatout stupid slapstick that makes comedies like jingle all the way look decent by comparison writer adam rifkin and director gore verbinski are the names chiefly responsible for this swill the plot for what its worth concerns two brothers nathan lane and an appalling lee evens who inherit a poorly run string factory and a seemingly worthless house from their eccentric father deciding to check out the longabandoned house they soon learn that its worth a fortune and set about selling it in auction to the highest bidder but battling them at every turn is a very smart mouse happy with his rundown little abode and wanting it to stay that way the story alternates between unfunny scenes of the brothers bickering over what to do with their inheritance and endless action sequences as the two take on their increasingly determined furry foe whatever promise the film starts with soon deteriorates into boring dialogue terrible overacting and increasingly uninspired slapstick that becomes all sound and fury signifying nothing the script becomes so unspeakably bad that the best line poor lee evens can utter after another run in with the rodent is i hate that mouse oh cringe this is home alone all over again and ten times worse one touching scene early on is worth mentioning we follow the mouse through a maze of walls and pipes until he arrives at his makeshift abode somewhere in a wall he jumps into a tiny bed pulls up a makeshift sheet and snuggles up to sleep seemingly happy and just wanting to be left alone its a magical little moment in an otherwise soulless film a message to speilberg if you want dreamworks to be associated with some kind of artistic credibility then either give all concerned in mouse hunt a swift kick up the arse or hire yourself some decent writers and directors this kind of rubbish will just not do at all</td>\n",
              "    </tr>\n",
              "    <tr>\n",
              "      <th>1</th>\n",
              "      <td>some talented actresses are blessed with a demonstrated wide acting range while others almost as gifted have more limited types of parts for which they are suitable as was amply evident after basic instinct sharon stone can play sensual roles with great abandon rejecting her natural abilities she has spent the rest of her entire career trying with little success to play against type gloria is her latest disaster babe ruth didnt quit baseball after one season to play football in a quixotic quest to prove his athletic dexterity and neither should stone reject what she does best janeane garofalo for example is no less wonderful an actress because she could have never pulled off stones part in basic instinct neither is stone any less talented because she couldnt do garofalos comedic roles gloria directed by respected director sidney lumet and adapted by steve antin from the 1980 screenplay by john cassavetes was not screened in advance for critics almost always a sign that the studio isnt behind the picture after seeing it in a nearly empty audience after it opened it is clear why they held it from the press it is a film more to be endured than enjoyed as the story opens an angry gloria stone is being released from prison after 3 years confinement shes got a bad attitude and a big mouth she also has a bad case of wavering and overblown new york accents a disease suffered by much of the rest of the cast an annoying child actor named jeanluke figueroa plays a soontobe orphan named nicky just before his whole family is gunned down by hoods working for glorias exboyfriend kevin jeremy northam nickys dad gives him a banana yellow floppy disk with secrets about kevins operation and offers him a piece of fatherly advice be a man his father lectures him sternly dont trust nobody not no broads nobody most of the films leaden dialog is delivered with the emotive power of the automated time and temperature announcements add in the movies almost nonexistent background noise and the excruciatingly slow pacing and you can hear the sounds of the lines falling to the ground like stones lumet places his actors in the frames like fruit in a still life painting they stand awkwardly mouthing the stiff sentences that pass for discourse say youre my baby kevin coos demandingly im not gonna gloria pouts back the movie has a plethora of logical flaws and implausibilites the kid rarely seems the least bit worried or scared no matter how many people are after him with guns trying to kill him and in one key scene the yellow floppy he holds is assumed to be the right disk without checking it and is further assumed never to have been copied gloria who keeps saying how she hates kids takes nicky under her wing and protects him from kevin and the bad guys think her maternal instincts will show up before the movie finally and predictably ends if you dont know the answer you may be just the right viewer for this film you have to say this for stone she can keep a straight face when explaining life to a 7yearold kid she says with utter seriousness you got a lot of love making to make you got a lot of boozing to do gloria runs 1 48 it is rated r for profanity violence and brief male nudity and would be acceptable for teenagers</td>\n",
              "    </tr>\n",
              "    <tr>\n",
              "      <th>2</th>\n",
              "      <td>this has been an extraordinary year for australian films shine has just scooped the pool at the australian film institute awards picking up best film best actor best director etc to that we can add the gritty life the anguish courage and friendship of a group of male prisoners in the hivpositive section of a jail and love and other catastrophes a low budget gem about straight and gay love on and near a university campus i cant recall a year in which such a rich and varied celluloid library was unleashed from australia shine was one bookend stand by for the other one dead heart from the opening credits the theme of division is established the cast credits have clear and distinct lines separating their first and last names bryan brown in a desert settlement hundreds of kilometres from the nearest town there is an uneasy calm between the local aboriginals and the handful of white settlers who live nearby the local police officer has the task of enforcing white mans justice to the aboriginals these are people with a proud 40 000 year heritage behind them naturally this includes their own system of justice key to which is payback an eye for an eye revenge usually extracted by the spearing through of the recipients thigh brown as the officer manages quite well to keep the balance he admits that he has to bend the rules a bit including actively encouraging at least one brutal payback be warned that this scene near the start is not for the squeamish the local priest an aboriginal but in the white fellas church has a foot on either side of the line he is figuratively and literally in both camps ernie dingo brings a great deal of understanding to this role as the man in the middle he is part churchman and part politician however the tension like the heat flies and dust is always there whilst her husband the local teacher is in church white lady kate milliken and her aborginal friend tony pedersen have gone off into the hills he takes her to a sacred site even today strictly menonly she appears to not know this tony tells her that this is a special place an initiation place he then makes love to her surrounded by ancient rock art the community finds out about this sacrilegious act and its payback time the fuse is lit and the brittle interracial peace is shattered everyone is affected in the fall out to say more is to give away the details of this finely crafted film suffice to say its a rewarding experience bryan brown acting and coproducing is the pivotal character his officer is real human and therefore flawed brown comments that he expects audiences to feel warmth towards the man then suddenly feel angry about him it wasnt long ago that i visited central australia ayers rock uluru and alice springs for the first time the widescreen cinematography shows the dead heart of australia in a way that captures its vicious beauty but never deteriorates into a moving slide show in which the gorgeous background dominates those pesky actors in the foreground the cultural clash has provided the thesis for many a film from the western to the birdcage at least three excellent australian films have covered the aboriginal people and the line between them and we anglosaxon invaders jedda the chant of jimmie blacksmith and the last wave in a year when the race debate has reared up in australia it is nourishing to see such an intelligent nonjudgemental film as dead heart the aboriginal priest best sums this up he is asked to say if he is a black fella or white fella</td>\n",
              "    </tr>\n",
              "    <tr>\n",
              "      <th>3</th>\n",
              "      <td>according to hollywood movies made in last few decades life in small town is one of the worst things that could happen to a human being even worse fate awaits those who were unfortunate to grow up in those dark godforsaken places and later forced to live forever traumatised by the experience on the other hand it seems that something more than atlantic ocean divides europe from america because one of the most popular and beloved european films takes exactly the opposite view this film is amarcord 1974 comedy by famous italian director federico fellini which later gave inspiration to numerous imitations and homages and even led few american screen artists to adopt its heretical views about benefits of small town life the film is based on the screenplay by fellini and tonino guerra and it lacks the plot in usual sense instead we follow one year in 1930s italian summer resort town of rimini through the series of short vignettes that depict various local events and customs as well as series of local often very colourful characters although many of those characters occasionally take the role of narrator movie concentrates on its nominal protagonist 14year old boy titta played by bruno zanin and chronicles his sexual frustrations obsession with local beauty queen named gradisca played by magali noel problems in his lovingly dysfunctional family as well as troubles his father played by armando brancia have with mussolinis fascist regime amarcord was often noted as the ultimate nostalgia film and it probably explains why it is very popular even among those people who actually dont like federico fellinis work very much every member of its potential audience would find part of himself or herself in this film because fellini in this film clearly illustrates natural human desire to paint past in the best way possible distortion between actual past and its subjective interpretation could be found even in the title of the film word amarcord is nothing more than badly pronounced phrase i remember in local italian dialect in the same way the word is distorted so is the past in memories of those who remember it after the premiere fellini rejected any claims about autobiographical character of this film but it doesnt matter whether rimini of amarcord actually resembles rimini of fellinis childhood or not any place and any time could resemble characters and situations of this film fellinis views on nostalgia are clearly illustrated with a way he mixes reality and fantasy in this film even the most naturalistic scenes are laced with dark humour and grotesque images characters look like caricatures actors playing them often deliberately overact and women especially those who fuel tittas sexual fantasies often have certain body parts with gargantuan proportions every now and then scenes that depict 1930s reality gradually slide into fantasies of movies characters and rimini becomes almost indistinguishable from the magical place in characters visions because of that almost everything in this film looks different and in most cases better than it would have looked in the real life even the fascism gets fellinian makeover fellini views mussolinis totalitarian regime as nothing more than visual spectacle explaining why similar regimes enjoyed such popular support throughout history and opportunity for comedy when fascists finally show their true colours and begin torturing their opponents even this becomes opportunity for scenes of macabre humour unlike many of his italian colleagues in 1970s who had used 1930s period setting to explicitly condemn fascism and serve fashionable political agenda fellini doesnt care that much about politics lack of selfrighteous moral perspective is compensated with fellinis humanistic approach to his characters each of them regardless of age gender social class or physical appearance is given opportunity to express his or her views dreams and fears fellini treats all those characters with warmth and affection even when he paints them as grotesque caricatures of real people because of this warmth and democratic spirit amarcord could be viewed as one of the most humane films of 20th century and it keeps its general feel good atmosphere despite depicting having many uncomfortable melancholic and even tragic moments fellini couldnt produce such effects without using his own directorial talent that gave a very personal touch to this movie vignettes arent memorable because of the characters only fellini uses camera painting film in bright colours especially in the scenes that depict characters fantasies fellini also knows how to use locations whether such location happens to be luxurious hotel brightcoloured beach or rural countryside even the downtoearth streets of rimini where everyone knows everyone gets magical dimension during the snowfall on the other hand lack of credible special effects somewhat diminished the same effect during the ocean liner scene this atmosphere is also provided by incredible talent of composer and fellinis longtime associate nino rota his amarcord theme is probably one of the most recognisable most popular and most relaxing and uplifting pieces of film music ever produced that music alone should be the reason to view amarcord as one of the indisputable classics of seventh art</td>\n",
              "    </tr>\n",
              "    <tr>\n",
              "      <th>4</th>\n",
              "      <td>my first press screening of 1998 and already ive gotten a prime candidate for my worst ten of the year list what an auspicious beginning welcome to the dog days of winter when the only film openings of merit are those oscar contenders that the studios opened in late december in new york and l a and which are just now beginning to appear elsewhere firestorm the directorial debut of dances with wolvess academy award winning cinematographer dean semler is the first of the new years crop of movies as our story opens the movie pretentiously informs us that of the tens of thousands of firefighters only 400 are smokejumpers we then cut to a plane load of smoke jumping cowboys and one cowgirl where one of the gungho guys is taking a romance quiz from cosmopolitan having the time of their lives they then jump into the middle of a burning forest when even in the beginning the director cant get the small parts right you can sense the movie is in trouble with the noisy fire roaring all about them and with the trapped people huddled near their gasolinefilled cars smokejumper monica christianne hirt tells them to get away from their soontoexplode vehicles not bothering to shout nor even get close to them she announces her warning without raising her voice much or approaching the people miraculously they manage to hear her and move away in a movie that specializes in cheap shots the camera locates the proverbial young girl trapped in a nearby burning building as it does throughout overly dramatic cinematographer stephen f windon from the postman uses extremely fast zooms right down to the endangered girls face our shows two heroes the crews chief wynt perkins played laconically by scott glenn and his secondincommand jesse graves played by howie long in a weak attempt to be the next steven seagal enter the burning house looking for the little girl in a panic they have difficulty in locating her before they are engulfed in flames the manipulative script has her hidden in her own dollhouse this mawkish show cuts back to monica who has a lifeordeath decision to make the chopper with the fireretardant chemicals has only enough to save one group will it be the large group near the cars or the helpless little girl and monicas two firefighting buddies she has only seconds to decide who will be saved yes she goes for the majority but miracle of miracles the other three come out alive anyway not content with a traditional firefighting story chris soths screenplay attempts to jazz it up by having william forsythe from palookaville play a vicious killer named randy earl shaye who sets a forest fire so that he can join the crew to put it out and then escape hoods in the woods is what the groundpounders yell out when the convicts are bused in to help them fight the fire along the way shaye picks up an ornithologist hostage played by suzy amis who turns out to have been trained in warrior ways by her father who was a marine drill instructor most of the highly predictable movie is a long chase in which poor howie long is given one ridiculous stunt after another to look silly performing he flings a chain saw backwards over his head while riding a speeding motorcycle so that the saw can hit the windshield of the pursuing truck arguably the low point is when he escapes from a locked burning building by riding a motorcycle conveniently parked inside using a ramp he shoots straight out of the top of the buildings attic and when he hits the ground he just rides off in a cloud of dust when the film isnt using some stock footage of actual forest fires the simulated ones look hokey editor jack hofstra cheapens the action even more by his use of burning flames in scene transitions the ending with its sick twists manages to be even worse than the rest of the movie perhaps the best that can be said for the picture is the faint praise i heard afterwards in the lobby its not as bad as some of the television sitcoms firestorm runs mercifully just 1 29 it is rated r for violence and language and would be acceptable for teenagers</td>\n",
              "    </tr>\n",
              "  </tbody>\n",
              "</table>\n",
              "</div><br><label><b>dtype:</b> object</label>"
            ]
          },
          "metadata": {},
          "execution_count": 12
        }
      ]
    },
    {
      "cell_type": "code",
      "source": [
        "# Tokenization\n",
        "df['review'] = df['review'].astype(str)  # Convert the 'review' column to string type\n",
        "\n",
        "df['tokens'] = df['clean_text'].apply(word_tokenize)\n",
        "df[['tokens']].head()"
      ],
      "metadata": {
        "colab": {
          "base_uri": "https://localhost:8080/",
          "height": 414
        },
        "id": "i-dSZnkbuXC2",
        "outputId": "74351ce4-4350-448d-b5e9-3879df4a0f74"
      },
      "execution_count": null,
      "outputs": [
        {
          "output_type": "execute_result",
          "data": {
            "text/plain": [
              "                                                                                                                                                                                                                                                                                                                                                                                                                                                                                                                                                                                                                                                                                                                              tokens\n",
              "0                        [how, do, films, like, mouse, hunt, get, into, theatres, isnt, there, a, law, or, something, this, diabolical, load, of, claptrap, from, steven, speilbergs, dreamworks, studio, is, hollywood, family, fare, at, its, deadly, worst, mouse, hunt, takes, the, bare, threads, of, a, plot, and, tries, to, prop, it, up, with, overacting, and, flatout, stupid, slapstick, that, makes, comedies, like, jingle, all, the, way, look, decent, by, comparison, writer, adam, rifkin, and, director, gore, verbinski, are, the, names, chiefly, responsible, for, this, swill, the, plot, for, what, its, worth, concerns, two, brothers, nathan, lane, and, an, appalling, lee, evens, who, inherit, a, ...]\n",
              "1  [some, talented, actresses, are, blessed, with, a, demonstrated, wide, acting, range, while, others, almost, as, gifted, have, more, limited, types, of, parts, for, which, they, are, suitable, as, was, amply, evident, after, basic, instinct, sharon, stone, can, play, sensual, roles, with, great, abandon, rejecting, her, natural, abilities, she, has, spent, the, rest, of, her, entire, career, trying, with, little, success, to, play, against, type, gloria, is, her, latest, disaster, babe, ruth, didnt, quit, baseball, after, one, season, to, play, football, in, a, quixotic, quest, to, prove, his, athletic, dexterity, and, neither, should, stone, reject, what, she, does, best, janeane, garofalo, ...]\n",
              "2                                               [this, has, been, an, extraordinary, year, for, australian, films, shine, has, just, scooped, the, pool, at, the, australian, film, institute, awards, picking, up, best, film, best, actor, best, director, etc, to, that, we, can, add, the, gritty, life, the, anguish, courage, and, friendship, of, a, group, of, male, prisoners, in, the, hivpositive, section, of, a, jail, and, love, and, other, catastrophes, a, low, budget, gem, about, straight, and, gay, love, on, and, near, a, university, campus, i, cant, recall, a, year, in, which, such, a, rich, and, varied, celluloid, library, was, unleashed, from, australia, shine, was, one, bookend, stand, by, ...]\n",
              "3             [according, to, hollywood, movies, made, in, last, few, decades, life, in, small, town, is, one, of, the, worst, things, that, could, happen, to, a, human, being, even, worse, fate, awaits, those, who, were, unfortunate, to, grow, up, in, those, dark, godforsaken, places, and, later, forced, to, live, forever, traumatised, by, the, experience, on, the, other, hand, it, seems, that, something, more, than, atlantic, ocean, divides, europe, from, america, because, one, of, the, most, popular, and, beloved, european, films, takes, exactly, the, opposite, view, this, film, is, amarcord, 1974, comedy, by, famous, italian, director, federico, fellini, which, later, gave, inspiration, to, ...]\n",
              "4                                         [my, first, press, screening, of, 1998, and, already, ive, gotten, a, prime, candidate, for, my, worst, ten, of, the, year, list, what, an, auspicious, beginning, welcome, to, the, dog, days, of, winter, when, the, only, film, openings, of, merit, are, those, oscar, contenders, that, the, studios, opened, in, late, december, in, new, york, and, l, a, and, which, are, just, now, beginning, to, appear, elsewhere, firestorm, the, directorial, debut, of, dances, with, wolvess, academy, award, winning, cinematographer, dean, semler, is, the, first, of, the, new, years, crop, of, movies, as, our, story, opens, the, movie, pretentiously, informs, us, that, of, ...]"
            ],
            "text/html": [
              "\n",
              "  <div id=\"df-bada6222-c03c-4abd-bc92-7f10c85b5a73\" class=\"colab-df-container\">\n",
              "    <div>\n",
              "<style scoped>\n",
              "    .dataframe tbody tr th:only-of-type {\n",
              "        vertical-align: middle;\n",
              "    }\n",
              "\n",
              "    .dataframe tbody tr th {\n",
              "        vertical-align: top;\n",
              "    }\n",
              "\n",
              "    .dataframe thead th {\n",
              "        text-align: right;\n",
              "    }\n",
              "</style>\n",
              "<table border=\"1\" class=\"dataframe\">\n",
              "  <thead>\n",
              "    <tr style=\"text-align: right;\">\n",
              "      <th></th>\n",
              "      <th>tokens</th>\n",
              "    </tr>\n",
              "  </thead>\n",
              "  <tbody>\n",
              "    <tr>\n",
              "      <th>0</th>\n",
              "      <td>[how, do, films, like, mouse, hunt, get, into, theatres, isnt, there, a, law, or, something, this, diabolical, load, of, claptrap, from, steven, speilbergs, dreamworks, studio, is, hollywood, family, fare, at, its, deadly, worst, mouse, hunt, takes, the, bare, threads, of, a, plot, and, tries, to, prop, it, up, with, overacting, and, flatout, stupid, slapstick, that, makes, comedies, like, jingle, all, the, way, look, decent, by, comparison, writer, adam, rifkin, and, director, gore, verbinski, are, the, names, chiefly, responsible, for, this, swill, the, plot, for, what, its, worth, concerns, two, brothers, nathan, lane, and, an, appalling, lee, evens, who, inherit, a, ...]</td>\n",
              "    </tr>\n",
              "    <tr>\n",
              "      <th>1</th>\n",
              "      <td>[some, talented, actresses, are, blessed, with, a, demonstrated, wide, acting, range, while, others, almost, as, gifted, have, more, limited, types, of, parts, for, which, they, are, suitable, as, was, amply, evident, after, basic, instinct, sharon, stone, can, play, sensual, roles, with, great, abandon, rejecting, her, natural, abilities, she, has, spent, the, rest, of, her, entire, career, trying, with, little, success, to, play, against, type, gloria, is, her, latest, disaster, babe, ruth, didnt, quit, baseball, after, one, season, to, play, football, in, a, quixotic, quest, to, prove, his, athletic, dexterity, and, neither, should, stone, reject, what, she, does, best, janeane, garofalo, ...]</td>\n",
              "    </tr>\n",
              "    <tr>\n",
              "      <th>2</th>\n",
              "      <td>[this, has, been, an, extraordinary, year, for, australian, films, shine, has, just, scooped, the, pool, at, the, australian, film, institute, awards, picking, up, best, film, best, actor, best, director, etc, to, that, we, can, add, the, gritty, life, the, anguish, courage, and, friendship, of, a, group, of, male, prisoners, in, the, hivpositive, section, of, a, jail, and, love, and, other, catastrophes, a, low, budget, gem, about, straight, and, gay, love, on, and, near, a, university, campus, i, cant, recall, a, year, in, which, such, a, rich, and, varied, celluloid, library, was, unleashed, from, australia, shine, was, one, bookend, stand, by, ...]</td>\n",
              "    </tr>\n",
              "    <tr>\n",
              "      <th>3</th>\n",
              "      <td>[according, to, hollywood, movies, made, in, last, few, decades, life, in, small, town, is, one, of, the, worst, things, that, could, happen, to, a, human, being, even, worse, fate, awaits, those, who, were, unfortunate, to, grow, up, in, those, dark, godforsaken, places, and, later, forced, to, live, forever, traumatised, by, the, experience, on, the, other, hand, it, seems, that, something, more, than, atlantic, ocean, divides, europe, from, america, because, one, of, the, most, popular, and, beloved, european, films, takes, exactly, the, opposite, view, this, film, is, amarcord, 1974, comedy, by, famous, italian, director, federico, fellini, which, later, gave, inspiration, to, ...]</td>\n",
              "    </tr>\n",
              "    <tr>\n",
              "      <th>4</th>\n",
              "      <td>[my, first, press, screening, of, 1998, and, already, ive, gotten, a, prime, candidate, for, my, worst, ten, of, the, year, list, what, an, auspicious, beginning, welcome, to, the, dog, days, of, winter, when, the, only, film, openings, of, merit, are, those, oscar, contenders, that, the, studios, opened, in, late, december, in, new, york, and, l, a, and, which, are, just, now, beginning, to, appear, elsewhere, firestorm, the, directorial, debut, of, dances, with, wolvess, academy, award, winning, cinematographer, dean, semler, is, the, first, of, the, new, years, crop, of, movies, as, our, story, opens, the, movie, pretentiously, informs, us, that, of, ...]</td>\n",
              "    </tr>\n",
              "  </tbody>\n",
              "</table>\n",
              "</div>\n",
              "    <div class=\"colab-df-buttons\">\n",
              "\n",
              "  <div class=\"colab-df-container\">\n",
              "    <button class=\"colab-df-convert\" onclick=\"convertToInteractive('df-bada6222-c03c-4abd-bc92-7f10c85b5a73')\"\n",
              "            title=\"Convert this dataframe to an interactive table.\"\n",
              "            style=\"display:none;\">\n",
              "\n",
              "  <svg xmlns=\"http://www.w3.org/2000/svg\" height=\"24px\" viewBox=\"0 -960 960 960\">\n",
              "    <path d=\"M120-120v-720h720v720H120Zm60-500h600v-160H180v160Zm220 220h160v-160H400v160Zm0 220h160v-160H400v160ZM180-400h160v-160H180v160Zm440 0h160v-160H620v160ZM180-180h160v-160H180v160Zm440 0h160v-160H620v160Z\"/>\n",
              "  </svg>\n",
              "    </button>\n",
              "\n",
              "  <style>\n",
              "    .colab-df-container {\n",
              "      display:flex;\n",
              "      gap: 12px;\n",
              "    }\n",
              "\n",
              "    .colab-df-convert {\n",
              "      background-color: #E8F0FE;\n",
              "      border: none;\n",
              "      border-radius: 50%;\n",
              "      cursor: pointer;\n",
              "      display: none;\n",
              "      fill: #1967D2;\n",
              "      height: 32px;\n",
              "      padding: 0 0 0 0;\n",
              "      width: 32px;\n",
              "    }\n",
              "\n",
              "    .colab-df-convert:hover {\n",
              "      background-color: #E2EBFA;\n",
              "      box-shadow: 0px 1px 2px rgba(60, 64, 67, 0.3), 0px 1px 3px 1px rgba(60, 64, 67, 0.15);\n",
              "      fill: #174EA6;\n",
              "    }\n",
              "\n",
              "    .colab-df-buttons div {\n",
              "      margin-bottom: 4px;\n",
              "    }\n",
              "\n",
              "    [theme=dark] .colab-df-convert {\n",
              "      background-color: #3B4455;\n",
              "      fill: #D2E3FC;\n",
              "    }\n",
              "\n",
              "    [theme=dark] .colab-df-convert:hover {\n",
              "      background-color: #434B5C;\n",
              "      box-shadow: 0px 1px 3px 1px rgba(0, 0, 0, 0.15);\n",
              "      filter: drop-shadow(0px 1px 2px rgba(0, 0, 0, 0.3));\n",
              "      fill: #FFFFFF;\n",
              "    }\n",
              "  </style>\n",
              "\n",
              "    <script>\n",
              "      const buttonEl =\n",
              "        document.querySelector('#df-bada6222-c03c-4abd-bc92-7f10c85b5a73 button.colab-df-convert');\n",
              "      buttonEl.style.display =\n",
              "        google.colab.kernel.accessAllowed ? 'block' : 'none';\n",
              "\n",
              "      async function convertToInteractive(key) {\n",
              "        const element = document.querySelector('#df-bada6222-c03c-4abd-bc92-7f10c85b5a73');\n",
              "        const dataTable =\n",
              "          await google.colab.kernel.invokeFunction('convertToInteractive',\n",
              "                                                    [key], {});\n",
              "        if (!dataTable) return;\n",
              "\n",
              "        const docLinkHtml = 'Like what you see? Visit the ' +\n",
              "          '<a target=\"_blank\" href=https://colab.research.google.com/notebooks/data_table.ipynb>data table notebook</a>'\n",
              "          + ' to learn more about interactive tables.';\n",
              "        element.innerHTML = '';\n",
              "        dataTable['output_type'] = 'display_data';\n",
              "        await google.colab.output.renderOutput(dataTable, element);\n",
              "        const docLink = document.createElement('div');\n",
              "        docLink.innerHTML = docLinkHtml;\n",
              "        element.appendChild(docLink);\n",
              "      }\n",
              "    </script>\n",
              "  </div>\n",
              "\n",
              "\n",
              "<div id=\"df-0f1034f6-fbcf-488d-88fb-ebee3b7a9cde\">\n",
              "  <button class=\"colab-df-quickchart\" onclick=\"quickchart('df-0f1034f6-fbcf-488d-88fb-ebee3b7a9cde')\"\n",
              "            title=\"Suggest charts\"\n",
              "            style=\"display:none;\">\n",
              "\n",
              "<svg xmlns=\"http://www.w3.org/2000/svg\" height=\"24px\"viewBox=\"0 0 24 24\"\n",
              "     width=\"24px\">\n",
              "    <g>\n",
              "        <path d=\"M19 3H5c-1.1 0-2 .9-2 2v14c0 1.1.9 2 2 2h14c1.1 0 2-.9 2-2V5c0-1.1-.9-2-2-2zM9 17H7v-7h2v7zm4 0h-2V7h2v10zm4 0h-2v-4h2v4z\"/>\n",
              "    </g>\n",
              "</svg>\n",
              "  </button>\n",
              "\n",
              "<style>\n",
              "  .colab-df-quickchart {\n",
              "      --bg-color: #E8F0FE;\n",
              "      --fill-color: #1967D2;\n",
              "      --hover-bg-color: #E2EBFA;\n",
              "      --hover-fill-color: #174EA6;\n",
              "      --disabled-fill-color: #AAA;\n",
              "      --disabled-bg-color: #DDD;\n",
              "  }\n",
              "\n",
              "  [theme=dark] .colab-df-quickchart {\n",
              "      --bg-color: #3B4455;\n",
              "      --fill-color: #D2E3FC;\n",
              "      --hover-bg-color: #434B5C;\n",
              "      --hover-fill-color: #FFFFFF;\n",
              "      --disabled-bg-color: #3B4455;\n",
              "      --disabled-fill-color: #666;\n",
              "  }\n",
              "\n",
              "  .colab-df-quickchart {\n",
              "    background-color: var(--bg-color);\n",
              "    border: none;\n",
              "    border-radius: 50%;\n",
              "    cursor: pointer;\n",
              "    display: none;\n",
              "    fill: var(--fill-color);\n",
              "    height: 32px;\n",
              "    padding: 0;\n",
              "    width: 32px;\n",
              "  }\n",
              "\n",
              "  .colab-df-quickchart:hover {\n",
              "    background-color: var(--hover-bg-color);\n",
              "    box-shadow: 0 1px 2px rgba(60, 64, 67, 0.3), 0 1px 3px 1px rgba(60, 64, 67, 0.15);\n",
              "    fill: var(--button-hover-fill-color);\n",
              "  }\n",
              "\n",
              "  .colab-df-quickchart-complete:disabled,\n",
              "  .colab-df-quickchart-complete:disabled:hover {\n",
              "    background-color: var(--disabled-bg-color);\n",
              "    fill: var(--disabled-fill-color);\n",
              "    box-shadow: none;\n",
              "  }\n",
              "\n",
              "  .colab-df-spinner {\n",
              "    border: 2px solid var(--fill-color);\n",
              "    border-color: transparent;\n",
              "    border-bottom-color: var(--fill-color);\n",
              "    animation:\n",
              "      spin 1s steps(1) infinite;\n",
              "  }\n",
              "\n",
              "  @keyframes spin {\n",
              "    0% {\n",
              "      border-color: transparent;\n",
              "      border-bottom-color: var(--fill-color);\n",
              "      border-left-color: var(--fill-color);\n",
              "    }\n",
              "    20% {\n",
              "      border-color: transparent;\n",
              "      border-left-color: var(--fill-color);\n",
              "      border-top-color: var(--fill-color);\n",
              "    }\n",
              "    30% {\n",
              "      border-color: transparent;\n",
              "      border-left-color: var(--fill-color);\n",
              "      border-top-color: var(--fill-color);\n",
              "      border-right-color: var(--fill-color);\n",
              "    }\n",
              "    40% {\n",
              "      border-color: transparent;\n",
              "      border-right-color: var(--fill-color);\n",
              "      border-top-color: var(--fill-color);\n",
              "    }\n",
              "    60% {\n",
              "      border-color: transparent;\n",
              "      border-right-color: var(--fill-color);\n",
              "    }\n",
              "    80% {\n",
              "      border-color: transparent;\n",
              "      border-right-color: var(--fill-color);\n",
              "      border-bottom-color: var(--fill-color);\n",
              "    }\n",
              "    90% {\n",
              "      border-color: transparent;\n",
              "      border-bottom-color: var(--fill-color);\n",
              "    }\n",
              "  }\n",
              "</style>\n",
              "\n",
              "  <script>\n",
              "    async function quickchart(key) {\n",
              "      const quickchartButtonEl =\n",
              "        document.querySelector('#' + key + ' button');\n",
              "      quickchartButtonEl.disabled = true;  // To prevent multiple clicks.\n",
              "      quickchartButtonEl.classList.add('colab-df-spinner');\n",
              "      try {\n",
              "        const charts = await google.colab.kernel.invokeFunction(\n",
              "            'suggestCharts', [key], {});\n",
              "      } catch (error) {\n",
              "        console.error('Error during call to suggestCharts:', error);\n",
              "      }\n",
              "      quickchartButtonEl.classList.remove('colab-df-spinner');\n",
              "      quickchartButtonEl.classList.add('colab-df-quickchart-complete');\n",
              "    }\n",
              "    (() => {\n",
              "      let quickchartButtonEl =\n",
              "        document.querySelector('#df-0f1034f6-fbcf-488d-88fb-ebee3b7a9cde button');\n",
              "      quickchartButtonEl.style.display =\n",
              "        google.colab.kernel.accessAllowed ? 'block' : 'none';\n",
              "    })();\n",
              "  </script>\n",
              "</div>\n",
              "\n",
              "    </div>\n",
              "  </div>\n"
            ],
            "application/vnd.google.colaboratory.intrinsic+json": {
              "type": "dataframe",
              "summary": "{\n  \"name\": \"df[['tokens']]\",\n  \"rows\": 5,\n  \"fields\": [\n    {\n      \"column\": \"tokens\",\n      \"properties\": {\n        \"dtype\": \"object\",\n        \"semantic_type\": \"\",\n        \"description\": \"\"\n      }\n    }\n  ]\n}"
            }
          },
          "metadata": {},
          "execution_count": 13
        }
      ]
    },
    {
      "cell_type": "code",
      "source": [
        "# Synonym Substitution\n",
        "def get_synonym(word):\n",
        "    synonyms = wordnet.synsets(word)\n",
        "    if synonyms:\n",
        "        return synonyms[0].lemmas()[0].name()\n",
        "    return word\n",
        "\n",
        "df['synonym_sub_tokens'] = df['tokens'].apply(lambda x: [get_synonym(word) for word in x])\n",
        "df['synonym_sub_tokens'].head()"
      ],
      "metadata": {
        "colab": {
          "base_uri": "https://localhost:8080/",
          "height": 501
        },
        "id": "N6nUsZTO1rip",
        "outputId": "35bc5b1a-189b-4328-f8a5-81030473d11c"
      },
      "execution_count": null,
      "outputs": [
        {
          "output_type": "execute_result",
          "data": {
            "text/plain": [
              "0    [how, bash, movie, like, mouse, Hunt, get, into, theater, isnt, there, angstrom, law, Oregon, something, this, devilish, load, of, bombast, from, steven, speilbergs, dreamworks, studio, be, Hollywood, family, menu, astatine, information_technology, deadly, worst, mouse, Hunt, return, the, bare, togs, of, angstrom, plot, and, attempt, to, prop, information_technology, up, with, hamming, and, flatout, stupid, slapstick, that, brand, comedy, like, jingle, all, the, manner, expression, decent, by, comparison, writer, Adam, rifkin, and, director, Gore, verbinski, are, the, name_calling, chiefly, responsible, for, this, slop, the, plot, for, what, information_technology, worth, concern, two, brother, nathan, lane, and, Associate_in_Nursing, appalling, Lee, evening, World_Health_Organization, inherit, angstrom, ...]\n",
              "1                                                             [some, talented, actress, are, bless, with, angstrom, show, wide, acting, scope, while, others, about, arsenic, endow, rich_person, More, express, type, of, parts, for, which, they, are, suitable, arsenic, Washington, amply, apparent, after, BASIC, instinct, sharon, rock, can, play, animal, function, with, great, abandon, reject, her, natural, ability, she, hour_angle, spend, the, remainder, of, her, stallion, career, try, with, little, success, to, play, against, type, gloria, be, her, latest, catastrophe, baby, Ruth, didnt, discontinue, baseball, after, one, season, to, play, football, inch, angstrom, quixotic, pursuit, to, prove, his, athletic, dexterity, and, neither, should, rock, cull, what, she, Department_of_Energy, best, janeane, garofalo, ...]\n",
              "2            [this, hour_angle, be, Associate_in_Nursing, extraordinary, year, for, Australian, movie, radiance, hour_angle, just, scoop, the, pool, astatine, the, Australian, movie, institute, award, picking, up, best, movie, best, actor, best, director, etc, to, that, we, can, attention_deficit_disorder, the, farinaceous, life, the, anguish, courage, and, friendship, of, angstrom, group, of, male, prisoner, inch, the, hivpositive, section, of, angstrom, jail, and, love, and, other, calamity, angstrom, low, budget, gem, about, heterosexual, and, homosexual, love, on, and, approach, angstrom, university, campus, iodine, buzzword, recall, angstrom, year, inch, which, such, angstrom, rich_people, and, change, celluloid, library, Washington, unleash, from, Australia, radiance, Washington, one, bookend, base, by, ...]\n",
              "3                             [harmonize, to, Hollywood, movie, make, inch, stopping_point, few, decade, life, inch, small, town, be, one, of, the, worst, things, that, could, happen, to, angstrom, homo, being, evening, worse, destiny, expect, those, World_Health_Organization, be, unfortunate, to, turn, up, inch, those, dark, godforsaken, topographic_point, and, later, coerce, to, populate, everlastingly, traumatize, by, the, experience, on, the, other, hand, information_technology, look, that, something, More, than, Atlantic, ocean, divide, Europe, from, United_States, because, one, of, the, most, popular, and, beloved, European, movie, return, precisely, the, antonym, position, this, movie, be, amarcord, 1974, comedy, by, celebrated, Italian, director, federico, Fellini, which, later, give, inspiration, to, ...]\n",
              "4                                                                                              [my, first, imperativeness, screening, of, 1998, and, already, ive, get, angstrom, prime, campaigner, for, my, worst, ten, of, the, year, list, what, Associate_in_Nursing, auspicious, beginning, welcome, to, the, dog, days, of, winter, when, the, lone, movie, opening, of, merit, are, those, Academy_Award, rival, that, the, studio, open, inch, late, December, inch, new, York, and, liter, angstrom, and, which, are, just, now, beginning, to, look, elsewhere, firestorm, the, directorial, introduction, of, dance, with, wolvess, academy, award, winning, cameraman, dean, semler, be, the, first, of, the, new, old_age, crop, of, movie, arsenic, our, narrative, open, the, movie, pretentiously, inform, United_States, that, of, ...]\n",
              "Name: synonym_sub_tokens, dtype: object"
            ],
            "text/html": [
              "<div>\n",
              "<style scoped>\n",
              "    .dataframe tbody tr th:only-of-type {\n",
              "        vertical-align: middle;\n",
              "    }\n",
              "\n",
              "    .dataframe tbody tr th {\n",
              "        vertical-align: top;\n",
              "    }\n",
              "\n",
              "    .dataframe thead th {\n",
              "        text-align: right;\n",
              "    }\n",
              "</style>\n",
              "<table border=\"1\" class=\"dataframe\">\n",
              "  <thead>\n",
              "    <tr style=\"text-align: right;\">\n",
              "      <th></th>\n",
              "      <th>synonym_sub_tokens</th>\n",
              "    </tr>\n",
              "  </thead>\n",
              "  <tbody>\n",
              "    <tr>\n",
              "      <th>0</th>\n",
              "      <td>[how, bash, movie, like, mouse, Hunt, get, into, theater, isnt, there, angstrom, law, Oregon, something, this, devilish, load, of, bombast, from, steven, speilbergs, dreamworks, studio, be, Hollywood, family, menu, astatine, information_technology, deadly, worst, mouse, Hunt, return, the, bare, togs, of, angstrom, plot, and, attempt, to, prop, information_technology, up, with, hamming, and, flatout, stupid, slapstick, that, brand, comedy, like, jingle, all, the, manner, expression, decent, by, comparison, writer, Adam, rifkin, and, director, Gore, verbinski, are, the, name_calling, chiefly, responsible, for, this, slop, the, plot, for, what, information_technology, worth, concern, two, brother, nathan, lane, and, Associate_in_Nursing, appalling, Lee, evening, World_Health_Organization, inherit, angstrom, ...]</td>\n",
              "    </tr>\n",
              "    <tr>\n",
              "      <th>1</th>\n",
              "      <td>[some, talented, actress, are, bless, with, angstrom, show, wide, acting, scope, while, others, about, arsenic, endow, rich_person, More, express, type, of, parts, for, which, they, are, suitable, arsenic, Washington, amply, apparent, after, BASIC, instinct, sharon, rock, can, play, animal, function, with, great, abandon, reject, her, natural, ability, she, hour_angle, spend, the, remainder, of, her, stallion, career, try, with, little, success, to, play, against, type, gloria, be, her, latest, catastrophe, baby, Ruth, didnt, discontinue, baseball, after, one, season, to, play, football, inch, angstrom, quixotic, pursuit, to, prove, his, athletic, dexterity, and, neither, should, rock, cull, what, she, Department_of_Energy, best, janeane, garofalo, ...]</td>\n",
              "    </tr>\n",
              "    <tr>\n",
              "      <th>2</th>\n",
              "      <td>[this, hour_angle, be, Associate_in_Nursing, extraordinary, year, for, Australian, movie, radiance, hour_angle, just, scoop, the, pool, astatine, the, Australian, movie, institute, award, picking, up, best, movie, best, actor, best, director, etc, to, that, we, can, attention_deficit_disorder, the, farinaceous, life, the, anguish, courage, and, friendship, of, angstrom, group, of, male, prisoner, inch, the, hivpositive, section, of, angstrom, jail, and, love, and, other, calamity, angstrom, low, budget, gem, about, heterosexual, and, homosexual, love, on, and, approach, angstrom, university, campus, iodine, buzzword, recall, angstrom, year, inch, which, such, angstrom, rich_people, and, change, celluloid, library, Washington, unleash, from, Australia, radiance, Washington, one, bookend, base, by, ...]</td>\n",
              "    </tr>\n",
              "    <tr>\n",
              "      <th>3</th>\n",
              "      <td>[harmonize, to, Hollywood, movie, make, inch, stopping_point, few, decade, life, inch, small, town, be, one, of, the, worst, things, that, could, happen, to, angstrom, homo, being, evening, worse, destiny, expect, those, World_Health_Organization, be, unfortunate, to, turn, up, inch, those, dark, godforsaken, topographic_point, and, later, coerce, to, populate, everlastingly, traumatize, by, the, experience, on, the, other, hand, information_technology, look, that, something, More, than, Atlantic, ocean, divide, Europe, from, United_States, because, one, of, the, most, popular, and, beloved, European, movie, return, precisely, the, antonym, position, this, movie, be, amarcord, 1974, comedy, by, celebrated, Italian, director, federico, Fellini, which, later, give, inspiration, to, ...]</td>\n",
              "    </tr>\n",
              "    <tr>\n",
              "      <th>4</th>\n",
              "      <td>[my, first, imperativeness, screening, of, 1998, and, already, ive, get, angstrom, prime, campaigner, for, my, worst, ten, of, the, year, list, what, Associate_in_Nursing, auspicious, beginning, welcome, to, the, dog, days, of, winter, when, the, lone, movie, opening, of, merit, are, those, Academy_Award, rival, that, the, studio, open, inch, late, December, inch, new, York, and, liter, angstrom, and, which, are, just, now, beginning, to, look, elsewhere, firestorm, the, directorial, introduction, of, dance, with, wolvess, academy, award, winning, cameraman, dean, semler, be, the, first, of, the, new, old_age, crop, of, movie, arsenic, our, narrative, open, the, movie, pretentiously, inform, United_States, that, of, ...]</td>\n",
              "    </tr>\n",
              "  </tbody>\n",
              "</table>\n",
              "</div><br><label><b>dtype:</b> object</label>"
            ]
          },
          "metadata": {},
          "execution_count": 14
        }
      ]
    },
    {
      "cell_type": "code",
      "source": [
        "# Case folding\n",
        "df['case_folded_tokens'] = df['synonym_sub_tokens'].apply(lambda x: [word.lower() for word in x])\n",
        "df['case_folded_tokens'].head()"
      ],
      "metadata": {
        "colab": {
          "base_uri": "https://localhost:8080/",
          "height": 501
        },
        "id": "D9eJEwWYYFnI",
        "outputId": "47a6d1ab-6dde-45dc-e313-28bc6a994a8c"
      },
      "execution_count": null,
      "outputs": [
        {
          "output_type": "execute_result",
          "data": {
            "text/plain": [
              "0    [how, bash, movie, like, mouse, hunt, get, into, theater, isnt, there, angstrom, law, oregon, something, this, devilish, load, of, bombast, from, steven, speilbergs, dreamworks, studio, be, hollywood, family, menu, astatine, information_technology, deadly, worst, mouse, hunt, return, the, bare, togs, of, angstrom, plot, and, attempt, to, prop, information_technology, up, with, hamming, and, flatout, stupid, slapstick, that, brand, comedy, like, jingle, all, the, manner, expression, decent, by, comparison, writer, adam, rifkin, and, director, gore, verbinski, are, the, name_calling, chiefly, responsible, for, this, slop, the, plot, for, what, information_technology, worth, concern, two, brother, nathan, lane, and, associate_in_nursing, appalling, lee, evening, world_health_organization, inherit, angstrom, ...]\n",
              "1                                                             [some, talented, actress, are, bless, with, angstrom, show, wide, acting, scope, while, others, about, arsenic, endow, rich_person, more, express, type, of, parts, for, which, they, are, suitable, arsenic, washington, amply, apparent, after, basic, instinct, sharon, rock, can, play, animal, function, with, great, abandon, reject, her, natural, ability, she, hour_angle, spend, the, remainder, of, her, stallion, career, try, with, little, success, to, play, against, type, gloria, be, her, latest, catastrophe, baby, ruth, didnt, discontinue, baseball, after, one, season, to, play, football, inch, angstrom, quixotic, pursuit, to, prove, his, athletic, dexterity, and, neither, should, rock, cull, what, she, department_of_energy, best, janeane, garofalo, ...]\n",
              "2            [this, hour_angle, be, associate_in_nursing, extraordinary, year, for, australian, movie, radiance, hour_angle, just, scoop, the, pool, astatine, the, australian, movie, institute, award, picking, up, best, movie, best, actor, best, director, etc, to, that, we, can, attention_deficit_disorder, the, farinaceous, life, the, anguish, courage, and, friendship, of, angstrom, group, of, male, prisoner, inch, the, hivpositive, section, of, angstrom, jail, and, love, and, other, calamity, angstrom, low, budget, gem, about, heterosexual, and, homosexual, love, on, and, approach, angstrom, university, campus, iodine, buzzword, recall, angstrom, year, inch, which, such, angstrom, rich_people, and, change, celluloid, library, washington, unleash, from, australia, radiance, washington, one, bookend, base, by, ...]\n",
              "3                             [harmonize, to, hollywood, movie, make, inch, stopping_point, few, decade, life, inch, small, town, be, one, of, the, worst, things, that, could, happen, to, angstrom, homo, being, evening, worse, destiny, expect, those, world_health_organization, be, unfortunate, to, turn, up, inch, those, dark, godforsaken, topographic_point, and, later, coerce, to, populate, everlastingly, traumatize, by, the, experience, on, the, other, hand, information_technology, look, that, something, more, than, atlantic, ocean, divide, europe, from, united_states, because, one, of, the, most, popular, and, beloved, european, movie, return, precisely, the, antonym, position, this, movie, be, amarcord, 1974, comedy, by, celebrated, italian, director, federico, fellini, which, later, give, inspiration, to, ...]\n",
              "4                                                                                              [my, first, imperativeness, screening, of, 1998, and, already, ive, get, angstrom, prime, campaigner, for, my, worst, ten, of, the, year, list, what, associate_in_nursing, auspicious, beginning, welcome, to, the, dog, days, of, winter, when, the, lone, movie, opening, of, merit, are, those, academy_award, rival, that, the, studio, open, inch, late, december, inch, new, york, and, liter, angstrom, and, which, are, just, now, beginning, to, look, elsewhere, firestorm, the, directorial, introduction, of, dance, with, wolvess, academy, award, winning, cameraman, dean, semler, be, the, first, of, the, new, old_age, crop, of, movie, arsenic, our, narrative, open, the, movie, pretentiously, inform, united_states, that, of, ...]\n",
              "Name: case_folded_tokens, dtype: object"
            ],
            "text/html": [
              "<div>\n",
              "<style scoped>\n",
              "    .dataframe tbody tr th:only-of-type {\n",
              "        vertical-align: middle;\n",
              "    }\n",
              "\n",
              "    .dataframe tbody tr th {\n",
              "        vertical-align: top;\n",
              "    }\n",
              "\n",
              "    .dataframe thead th {\n",
              "        text-align: right;\n",
              "    }\n",
              "</style>\n",
              "<table border=\"1\" class=\"dataframe\">\n",
              "  <thead>\n",
              "    <tr style=\"text-align: right;\">\n",
              "      <th></th>\n",
              "      <th>case_folded_tokens</th>\n",
              "    </tr>\n",
              "  </thead>\n",
              "  <tbody>\n",
              "    <tr>\n",
              "      <th>0</th>\n",
              "      <td>[how, bash, movie, like, mouse, hunt, get, into, theater, isnt, there, angstrom, law, oregon, something, this, devilish, load, of, bombast, from, steven, speilbergs, dreamworks, studio, be, hollywood, family, menu, astatine, information_technology, deadly, worst, mouse, hunt, return, the, bare, togs, of, angstrom, plot, and, attempt, to, prop, information_technology, up, with, hamming, and, flatout, stupid, slapstick, that, brand, comedy, like, jingle, all, the, manner, expression, decent, by, comparison, writer, adam, rifkin, and, director, gore, verbinski, are, the, name_calling, chiefly, responsible, for, this, slop, the, plot, for, what, information_technology, worth, concern, two, brother, nathan, lane, and, associate_in_nursing, appalling, lee, evening, world_health_organization, inherit, angstrom, ...]</td>\n",
              "    </tr>\n",
              "    <tr>\n",
              "      <th>1</th>\n",
              "      <td>[some, talented, actress, are, bless, with, angstrom, show, wide, acting, scope, while, others, about, arsenic, endow, rich_person, more, express, type, of, parts, for, which, they, are, suitable, arsenic, washington, amply, apparent, after, basic, instinct, sharon, rock, can, play, animal, function, with, great, abandon, reject, her, natural, ability, she, hour_angle, spend, the, remainder, of, her, stallion, career, try, with, little, success, to, play, against, type, gloria, be, her, latest, catastrophe, baby, ruth, didnt, discontinue, baseball, after, one, season, to, play, football, inch, angstrom, quixotic, pursuit, to, prove, his, athletic, dexterity, and, neither, should, rock, cull, what, she, department_of_energy, best, janeane, garofalo, ...]</td>\n",
              "    </tr>\n",
              "    <tr>\n",
              "      <th>2</th>\n",
              "      <td>[this, hour_angle, be, associate_in_nursing, extraordinary, year, for, australian, movie, radiance, hour_angle, just, scoop, the, pool, astatine, the, australian, movie, institute, award, picking, up, best, movie, best, actor, best, director, etc, to, that, we, can, attention_deficit_disorder, the, farinaceous, life, the, anguish, courage, and, friendship, of, angstrom, group, of, male, prisoner, inch, the, hivpositive, section, of, angstrom, jail, and, love, and, other, calamity, angstrom, low, budget, gem, about, heterosexual, and, homosexual, love, on, and, approach, angstrom, university, campus, iodine, buzzword, recall, angstrom, year, inch, which, such, angstrom, rich_people, and, change, celluloid, library, washington, unleash, from, australia, radiance, washington, one, bookend, base, by, ...]</td>\n",
              "    </tr>\n",
              "    <tr>\n",
              "      <th>3</th>\n",
              "      <td>[harmonize, to, hollywood, movie, make, inch, stopping_point, few, decade, life, inch, small, town, be, one, of, the, worst, things, that, could, happen, to, angstrom, homo, being, evening, worse, destiny, expect, those, world_health_organization, be, unfortunate, to, turn, up, inch, those, dark, godforsaken, topographic_point, and, later, coerce, to, populate, everlastingly, traumatize, by, the, experience, on, the, other, hand, information_technology, look, that, something, more, than, atlantic, ocean, divide, europe, from, united_states, because, one, of, the, most, popular, and, beloved, european, movie, return, precisely, the, antonym, position, this, movie, be, amarcord, 1974, comedy, by, celebrated, italian, director, federico, fellini, which, later, give, inspiration, to, ...]</td>\n",
              "    </tr>\n",
              "    <tr>\n",
              "      <th>4</th>\n",
              "      <td>[my, first, imperativeness, screening, of, 1998, and, already, ive, get, angstrom, prime, campaigner, for, my, worst, ten, of, the, year, list, what, associate_in_nursing, auspicious, beginning, welcome, to, the, dog, days, of, winter, when, the, lone, movie, opening, of, merit, are, those, academy_award, rival, that, the, studio, open, inch, late, december, inch, new, york, and, liter, angstrom, and, which, are, just, now, beginning, to, look, elsewhere, firestorm, the, directorial, introduction, of, dance, with, wolvess, academy, award, winning, cameraman, dean, semler, be, the, first, of, the, new, old_age, crop, of, movie, arsenic, our, narrative, open, the, movie, pretentiously, inform, united_states, that, of, ...]</td>\n",
              "    </tr>\n",
              "  </tbody>\n",
              "</table>\n",
              "</div><br><label><b>dtype:</b> object</label>"
            ]
          },
          "metadata": {},
          "execution_count": 15
        }
      ]
    },
    {
      "cell_type": "code",
      "source": [
        "# Handling Underscores\n",
        "def split_underscores(tokens):\n",
        "    split_tokens = []\n",
        "    for token in tokens:\n",
        "        split_tokens.extend(token.split('_'))  # splits words like world_health_organ\n",
        "    return split_tokens\n",
        "\n",
        "df['cleaned_tokens'] = df['case_folded_tokens'].apply(split_underscores)\n",
        "df['cleaned_tokens'].head()"
      ],
      "metadata": {
        "colab": {
          "base_uri": "https://localhost:8080/",
          "height": 501
        },
        "id": "KLrBzBvx2k45",
        "outputId": "7c7ac8a9-f0f3-459a-df37-41d561aaf332"
      },
      "execution_count": null,
      "outputs": [
        {
          "output_type": "execute_result",
          "data": {
            "text/plain": [
              "0           [how, bash, movie, like, mouse, hunt, get, into, theater, isnt, there, angstrom, law, oregon, something, this, devilish, load, of, bombast, from, steven, speilbergs, dreamworks, studio, be, hollywood, family, menu, astatine, information, technology, deadly, worst, mouse, hunt, return, the, bare, togs, of, angstrom, plot, and, attempt, to, prop, information, technology, up, with, hamming, and, flatout, stupid, slapstick, that, brand, comedy, like, jingle, all, the, manner, expression, decent, by, comparison, writer, adam, rifkin, and, director, gore, verbinski, are, the, name, calling, chiefly, responsible, for, this, slop, the, plot, for, what, information, technology, worth, concern, two, brother, nathan, lane, and, associate, in, nursing, ...]\n",
              "1                                [some, talented, actress, are, bless, with, angstrom, show, wide, acting, scope, while, others, about, arsenic, endow, rich, person, more, express, type, of, parts, for, which, they, are, suitable, arsenic, washington, amply, apparent, after, basic, instinct, sharon, rock, can, play, animal, function, with, great, abandon, reject, her, natural, ability, she, hour, angle, spend, the, remainder, of, her, stallion, career, try, with, little, success, to, play, against, type, gloria, be, her, latest, catastrophe, baby, ruth, didnt, discontinue, baseball, after, one, season, to, play, football, inch, angstrom, quixotic, pursuit, to, prove, his, athletic, dexterity, and, neither, should, rock, cull, what, she, department, of, ...]\n",
              "2    [this, hour, angle, be, associate, in, nursing, extraordinary, year, for, australian, movie, radiance, hour, angle, just, scoop, the, pool, astatine, the, australian, movie, institute, award, picking, up, best, movie, best, actor, best, director, etc, to, that, we, can, attention, deficit, disorder, the, farinaceous, life, the, anguish, courage, and, friendship, of, angstrom, group, of, male, prisoner, inch, the, hivpositive, section, of, angstrom, jail, and, love, and, other, calamity, angstrom, low, budget, gem, about, heterosexual, and, homosexual, love, on, and, approach, angstrom, university, campus, iodine, buzzword, recall, angstrom, year, inch, which, such, angstrom, rich, people, and, change, celluloid, library, washington, unleash, from, ...]\n",
              "3           [harmonize, to, hollywood, movie, make, inch, stopping, point, few, decade, life, inch, small, town, be, one, of, the, worst, things, that, could, happen, to, angstrom, homo, being, evening, worse, destiny, expect, those, world, health, organization, be, unfortunate, to, turn, up, inch, those, dark, godforsaken, topographic, point, and, later, coerce, to, populate, everlastingly, traumatize, by, the, experience, on, the, other, hand, information, technology, look, that, something, more, than, atlantic, ocean, divide, europe, from, united, states, because, one, of, the, most, popular, and, beloved, european, movie, return, precisely, the, antonym, position, this, movie, be, amarcord, 1974, comedy, by, celebrated, italian, director, federico, ...]\n",
              "4                                                                 [my, first, imperativeness, screening, of, 1998, and, already, ive, get, angstrom, prime, campaigner, for, my, worst, ten, of, the, year, list, what, associate, in, nursing, auspicious, beginning, welcome, to, the, dog, days, of, winter, when, the, lone, movie, opening, of, merit, are, those, academy, award, rival, that, the, studio, open, inch, late, december, inch, new, york, and, liter, angstrom, and, which, are, just, now, beginning, to, look, elsewhere, firestorm, the, directorial, introduction, of, dance, with, wolvess, academy, award, winning, cameraman, dean, semler, be, the, first, of, the, new, old, age, crop, of, movie, arsenic, our, narrative, open, the, movie, pretentiously, ...]\n",
              "Name: cleaned_tokens, dtype: object"
            ],
            "text/html": [
              "<div>\n",
              "<style scoped>\n",
              "    .dataframe tbody tr th:only-of-type {\n",
              "        vertical-align: middle;\n",
              "    }\n",
              "\n",
              "    .dataframe tbody tr th {\n",
              "        vertical-align: top;\n",
              "    }\n",
              "\n",
              "    .dataframe thead th {\n",
              "        text-align: right;\n",
              "    }\n",
              "</style>\n",
              "<table border=\"1\" class=\"dataframe\">\n",
              "  <thead>\n",
              "    <tr style=\"text-align: right;\">\n",
              "      <th></th>\n",
              "      <th>cleaned_tokens</th>\n",
              "    </tr>\n",
              "  </thead>\n",
              "  <tbody>\n",
              "    <tr>\n",
              "      <th>0</th>\n",
              "      <td>[how, bash, movie, like, mouse, hunt, get, into, theater, isnt, there, angstrom, law, oregon, something, this, devilish, load, of, bombast, from, steven, speilbergs, dreamworks, studio, be, hollywood, family, menu, astatine, information, technology, deadly, worst, mouse, hunt, return, the, bare, togs, of, angstrom, plot, and, attempt, to, prop, information, technology, up, with, hamming, and, flatout, stupid, slapstick, that, brand, comedy, like, jingle, all, the, manner, expression, decent, by, comparison, writer, adam, rifkin, and, director, gore, verbinski, are, the, name, calling, chiefly, responsible, for, this, slop, the, plot, for, what, information, technology, worth, concern, two, brother, nathan, lane, and, associate, in, nursing, ...]</td>\n",
              "    </tr>\n",
              "    <tr>\n",
              "      <th>1</th>\n",
              "      <td>[some, talented, actress, are, bless, with, angstrom, show, wide, acting, scope, while, others, about, arsenic, endow, rich, person, more, express, type, of, parts, for, which, they, are, suitable, arsenic, washington, amply, apparent, after, basic, instinct, sharon, rock, can, play, animal, function, with, great, abandon, reject, her, natural, ability, she, hour, angle, spend, the, remainder, of, her, stallion, career, try, with, little, success, to, play, against, type, gloria, be, her, latest, catastrophe, baby, ruth, didnt, discontinue, baseball, after, one, season, to, play, football, inch, angstrom, quixotic, pursuit, to, prove, his, athletic, dexterity, and, neither, should, rock, cull, what, she, department, of, ...]</td>\n",
              "    </tr>\n",
              "    <tr>\n",
              "      <th>2</th>\n",
              "      <td>[this, hour, angle, be, associate, in, nursing, extraordinary, year, for, australian, movie, radiance, hour, angle, just, scoop, the, pool, astatine, the, australian, movie, institute, award, picking, up, best, movie, best, actor, best, director, etc, to, that, we, can, attention, deficit, disorder, the, farinaceous, life, the, anguish, courage, and, friendship, of, angstrom, group, of, male, prisoner, inch, the, hivpositive, section, of, angstrom, jail, and, love, and, other, calamity, angstrom, low, budget, gem, about, heterosexual, and, homosexual, love, on, and, approach, angstrom, university, campus, iodine, buzzword, recall, angstrom, year, inch, which, such, angstrom, rich, people, and, change, celluloid, library, washington, unleash, from, ...]</td>\n",
              "    </tr>\n",
              "    <tr>\n",
              "      <th>3</th>\n",
              "      <td>[harmonize, to, hollywood, movie, make, inch, stopping, point, few, decade, life, inch, small, town, be, one, of, the, worst, things, that, could, happen, to, angstrom, homo, being, evening, worse, destiny, expect, those, world, health, organization, be, unfortunate, to, turn, up, inch, those, dark, godforsaken, topographic, point, and, later, coerce, to, populate, everlastingly, traumatize, by, the, experience, on, the, other, hand, information, technology, look, that, something, more, than, atlantic, ocean, divide, europe, from, united, states, because, one, of, the, most, popular, and, beloved, european, movie, return, precisely, the, antonym, position, this, movie, be, amarcord, 1974, comedy, by, celebrated, italian, director, federico, ...]</td>\n",
              "    </tr>\n",
              "    <tr>\n",
              "      <th>4</th>\n",
              "      <td>[my, first, imperativeness, screening, of, 1998, and, already, ive, get, angstrom, prime, campaigner, for, my, worst, ten, of, the, year, list, what, associate, in, nursing, auspicious, beginning, welcome, to, the, dog, days, of, winter, when, the, lone, movie, opening, of, merit, are, those, academy, award, rival, that, the, studio, open, inch, late, december, inch, new, york, and, liter, angstrom, and, which, are, just, now, beginning, to, look, elsewhere, firestorm, the, directorial, introduction, of, dance, with, wolvess, academy, award, winning, cameraman, dean, semler, be, the, first, of, the, new, old, age, crop, of, movie, arsenic, our, narrative, open, the, movie, pretentiously, ...]</td>\n",
              "    </tr>\n",
              "  </tbody>\n",
              "</table>\n",
              "</div><br><label><b>dtype:</b> object</label>"
            ]
          },
          "metadata": {},
          "execution_count": 17
        }
      ]
    },
    {
      "cell_type": "code",
      "source": [
        "# Stop word removal\n",
        "stop_words = set(stopwords.words('english'))\n",
        "\n",
        "df['stopword_tokens'] = df['cleaned_tokens'].apply(lambda x: [word for word in x if word not in stop_words])\n",
        "df['stopword_tokens'].head()"
      ],
      "metadata": {
        "colab": {
          "base_uri": "https://localhost:8080/",
          "height": 501
        },
        "id": "qNIFl9aBhBWz",
        "outputId": "219e3207-ece4-490f-b47c-92503ab35b14"
      },
      "execution_count": null,
      "outputs": [
        {
          "output_type": "execute_result",
          "data": {
            "text/plain": [
              "0                     [bash, movie, like, mouse, hunt, get, theater, isnt, angstrom, law, oregon, something, devilish, load, bombast, steven, speilbergs, dreamworks, studio, hollywood, family, menu, astatine, information, technology, deadly, worst, mouse, hunt, return, bare, togs, angstrom, plot, attempt, prop, information, technology, hamming, flatout, stupid, slapstick, brand, comedy, like, jingle, manner, expression, decent, comparison, writer, adam, rifkin, director, gore, verbinski, name, calling, chiefly, responsible, slop, plot, information, technology, worth, concern, two, brother, nathan, lane, associate, nursing, appalling, lee, evening, world, health, organization, inherit, angstrom, ailing, run, string, factory, angstrom, apparently, worthless, house, eccentric, father, decision, making, check, longabandoned, house, soon, learn, information, technology, worth, ...]\n",
              "1                                                                      [talented, actress, bless, angstrom, show, wide, acting, scope, others, arsenic, endow, rich, person, express, type, parts, suitable, arsenic, washington, amply, apparent, basic, instinct, sharon, rock, play, animal, function, great, abandon, reject, natural, ability, hour, angle, spend, remainder, stallion, career, try, little, success, play, type, gloria, latest, catastrophe, baby, ruth, didnt, discontinue, baseball, one, season, play, football, inch, angstrom, quixotic, pursuit, prove, athletic, dexterity, neither, rock, cull, department, energy, best, janeane, garofalo, example, less, fantastic, associate, nursing, actress, could, rich, person, never, pull, murder, rock, part, inch, basic, instinct, neither, rock, less, talented, couldnt, bash, garofalos, comedic, function, gloria, direct, respect, ...]\n",
              "2                                      [hour, angle, associate, nursing, extraordinary, year, australian, movie, radiance, hour, angle, scoop, pool, astatine, australian, movie, institute, award, picking, best, movie, best, actor, best, director, etc, attention, deficit, disorder, farinaceous, life, anguish, courage, friendship, angstrom, group, male, prisoner, inch, hivpositive, section, angstrom, jail, love, calamity, angstrom, low, budget, gem, heterosexual, homosexual, love, approach, angstrom, university, campus, iodine, buzzword, recall, angstrom, year, inch, angstrom, rich, people, change, celluloid, library, washington, unleash, australia, radiance, washington, one, bookend, base, one, dead, heart, opening, credits, subject, division, establish, cast, credits, rich, person, clear, distinct, line, separate, first, stopping, point, name, calling, bryan, brown, inch, ...]\n",
              "3    [harmonize, hollywood, movie, make, inch, stopping, point, decade, life, inch, small, town, one, worst, things, could, happen, angstrom, homo, evening, worse, destiny, expect, world, health, organization, unfortunate, turn, inch, dark, godforsaken, topographic, point, later, coerce, populate, everlastingly, traumatize, experience, hand, information, technology, look, something, atlantic, ocean, divide, europe, united, states, one, popular, beloved, european, movie, return, precisely, antonym, position, movie, amarcord, 1974, comedy, celebrated, italian, director, federico, fellini, later, give, inspiration, numerous, imitation, court, evening, light-emitting, diode, american, screen, artist, adopt, information, technology, dissident, position, benefit, small, town, life, movie, establish, screenplay, fellini, tonino, guerra, information, technology, lack, plot, inch, ...]\n",
              "4                                                                             [first, imperativeness, screening, 1998, already, ive, get, angstrom, prime, campaigner, worst, ten, year, list, associate, nursing, auspicious, beginning, welcome, dog, days, winter, lone, movie, opening, merit, academy, award, rival, studio, open, inch, late, december, inch, new, york, liter, angstrom, beginning, look, elsewhere, firestorm, directorial, introduction, dance, wolvess, academy, award, winning, cameraman, dean, semler, first, new, old, age, crop, movie, arsenic, narrative, open, movie, pretentiously, inform, united, states, ten, thousand, fireman, lone, four, hundred, smokejumpers, cut, angstrom, airplane, load, smoke, jumping, cowboy, one, cowgirl, one, gungho, guy, pickings, angstrom, love, affair, quiz, cosmopolitan, time, life, jump, center, angstrom, burning, forest, evening, ...]\n",
              "Name: stopword_tokens, dtype: object"
            ],
            "text/html": [
              "<div>\n",
              "<style scoped>\n",
              "    .dataframe tbody tr th:only-of-type {\n",
              "        vertical-align: middle;\n",
              "    }\n",
              "\n",
              "    .dataframe tbody tr th {\n",
              "        vertical-align: top;\n",
              "    }\n",
              "\n",
              "    .dataframe thead th {\n",
              "        text-align: right;\n",
              "    }\n",
              "</style>\n",
              "<table border=\"1\" class=\"dataframe\">\n",
              "  <thead>\n",
              "    <tr style=\"text-align: right;\">\n",
              "      <th></th>\n",
              "      <th>stopword_tokens</th>\n",
              "    </tr>\n",
              "  </thead>\n",
              "  <tbody>\n",
              "    <tr>\n",
              "      <th>0</th>\n",
              "      <td>[bash, movie, like, mouse, hunt, get, theater, isnt, angstrom, law, oregon, something, devilish, load, bombast, steven, speilbergs, dreamworks, studio, hollywood, family, menu, astatine, information, technology, deadly, worst, mouse, hunt, return, bare, togs, angstrom, plot, attempt, prop, information, technology, hamming, flatout, stupid, slapstick, brand, comedy, like, jingle, manner, expression, decent, comparison, writer, adam, rifkin, director, gore, verbinski, name, calling, chiefly, responsible, slop, plot, information, technology, worth, concern, two, brother, nathan, lane, associate, nursing, appalling, lee, evening, world, health, organization, inherit, angstrom, ailing, run, string, factory, angstrom, apparently, worthless, house, eccentric, father, decision, making, check, longabandoned, house, soon, learn, information, technology, worth, ...]</td>\n",
              "    </tr>\n",
              "    <tr>\n",
              "      <th>1</th>\n",
              "      <td>[talented, actress, bless, angstrom, show, wide, acting, scope, others, arsenic, endow, rich, person, express, type, parts, suitable, arsenic, washington, amply, apparent, basic, instinct, sharon, rock, play, animal, function, great, abandon, reject, natural, ability, hour, angle, spend, remainder, stallion, career, try, little, success, play, type, gloria, latest, catastrophe, baby, ruth, didnt, discontinue, baseball, one, season, play, football, inch, angstrom, quixotic, pursuit, prove, athletic, dexterity, neither, rock, cull, department, energy, best, janeane, garofalo, example, less, fantastic, associate, nursing, actress, could, rich, person, never, pull, murder, rock, part, inch, basic, instinct, neither, rock, less, talented, couldnt, bash, garofalos, comedic, function, gloria, direct, respect, ...]</td>\n",
              "    </tr>\n",
              "    <tr>\n",
              "      <th>2</th>\n",
              "      <td>[hour, angle, associate, nursing, extraordinary, year, australian, movie, radiance, hour, angle, scoop, pool, astatine, australian, movie, institute, award, picking, best, movie, best, actor, best, director, etc, attention, deficit, disorder, farinaceous, life, anguish, courage, friendship, angstrom, group, male, prisoner, inch, hivpositive, section, angstrom, jail, love, calamity, angstrom, low, budget, gem, heterosexual, homosexual, love, approach, angstrom, university, campus, iodine, buzzword, recall, angstrom, year, inch, angstrom, rich, people, change, celluloid, library, washington, unleash, australia, radiance, washington, one, bookend, base, one, dead, heart, opening, credits, subject, division, establish, cast, credits, rich, person, clear, distinct, line, separate, first, stopping, point, name, calling, bryan, brown, inch, ...]</td>\n",
              "    </tr>\n",
              "    <tr>\n",
              "      <th>3</th>\n",
              "      <td>[harmonize, hollywood, movie, make, inch, stopping, point, decade, life, inch, small, town, one, worst, things, could, happen, angstrom, homo, evening, worse, destiny, expect, world, health, organization, unfortunate, turn, inch, dark, godforsaken, topographic, point, later, coerce, populate, everlastingly, traumatize, experience, hand, information, technology, look, something, atlantic, ocean, divide, europe, united, states, one, popular, beloved, european, movie, return, precisely, antonym, position, movie, amarcord, 1974, comedy, celebrated, italian, director, federico, fellini, later, give, inspiration, numerous, imitation, court, evening, light-emitting, diode, american, screen, artist, adopt, information, technology, dissident, position, benefit, small, town, life, movie, establish, screenplay, fellini, tonino, guerra, information, technology, lack, plot, inch, ...]</td>\n",
              "    </tr>\n",
              "    <tr>\n",
              "      <th>4</th>\n",
              "      <td>[first, imperativeness, screening, 1998, already, ive, get, angstrom, prime, campaigner, worst, ten, year, list, associate, nursing, auspicious, beginning, welcome, dog, days, winter, lone, movie, opening, merit, academy, award, rival, studio, open, inch, late, december, inch, new, york, liter, angstrom, beginning, look, elsewhere, firestorm, directorial, introduction, dance, wolvess, academy, award, winning, cameraman, dean, semler, first, new, old, age, crop, movie, arsenic, narrative, open, movie, pretentiously, inform, united, states, ten, thousand, fireman, lone, four, hundred, smokejumpers, cut, angstrom, airplane, load, smoke, jumping, cowboy, one, cowgirl, one, gungho, guy, pickings, angstrom, love, affair, quiz, cosmopolitan, time, life, jump, center, angstrom, burning, forest, evening, ...]</td>\n",
              "    </tr>\n",
              "  </tbody>\n",
              "</table>\n",
              "</div><br><label><b>dtype:</b> object</label>"
            ]
          },
          "metadata": {},
          "execution_count": 47
        }
      ]
    },
    {
      "cell_type": "code",
      "source": [
        "# Lemmatization\n",
        "# Load spaCy model\n",
        "nlp = spacy.load(\"en_core_web_sm\")\n",
        "\n",
        "def spacy_lemmatize(tokens):\n",
        "    doc = nlp(\" \".join(tokens))\n",
        "    return [token.lemma_ for token in doc]\n",
        "\n",
        "df['lemma_tokens'] = df['stopword_tokens'].apply(spacy_lemmatize)\n",
        "df['lemma_tokens'].head()"
      ],
      "metadata": {
        "colab": {
          "base_uri": "https://localhost:8080/",
          "height": 501
        },
        "id": "n22lNzld2Owo",
        "outputId": "8a683777-b26c-4623-96c7-766017e21e28"
      },
      "execution_count": null,
      "outputs": [
        {
          "output_type": "execute_result",
          "data": {
            "text/plain": [
              "0                [bash, movie, like, mouse, hunt, get, theater, be, not, angstrom, law, oregon, something, devilish, load, bombast, steven, speilbergs, dreamworks, studio, hollywood, family, menu, astatine, information, technology, deadly, bad, mouse, hunt, return, bare, tog, angstrom, plot, attempt, prop, information, technology, hamming, flatout, stupid, slapstick, brand, comedy, like, jingle, manner, expression, decent, comparison, writer, adam, rifkin, director, gore, verbinski, name, call, chiefly, responsible, slop, plot, information, technology, worth, concern, two, brother, nathan, lane, associate, nursing, appal, lee, evening, world, health, organization, inherit, angstrom, ail, run, string, factory, angstrom, apparently, worthless, house, eccentric, father, decision, making, check, longabandoned, house, soon, learn, information, technology, ...]\n",
              "1                                                                   [talented, actress, bless, angstrom, show, wide, act, scope, other, arsenic, endow, rich, person, express, type, part, suitable, arsenic, washington, amply, apparent, basic, instinct, sharon, rock, play, animal, function, great, abandon, reject, natural, ability, hour, angle, spend, remainder, stallion, career, try, little, success, play, type, gloria, late, catastrophe, baby, ruth, do, not, discontinue, baseball, one, season, play, football, inch, angstrom, quixotic, pursuit, prove, athletic, dexterity, neither, rock, cull, department, energy, good, janeane, garofalo, example, less, fantastic, associate, nursing, actress, could, rich, person, never, pull, murder, rock, part, inch, basic, instinct, neither, rock, less, talented, could, not, bash, garofalos, comedic, function, gloria, ...]\n",
              "2                               [hour, angle, associate, nursing, extraordinary, year, australian, movie, radiance, hour, angle, scoop, pool, astatine, australian, movie, institute, award, pick, good, movie, good, actor, good, director, etc, attention, deficit, disorder, farinaceous, life, anguish, courage, friendship, angstrom, group, male, prisoner, inch, hivpositive, section, angstrom, jail, love, calamity, angstrom, low, budget, gem, heterosexual, homosexual, love, approach, angstrom, university, campus, iodine, buzzword, recall, angstrom, year, inch, angstrom, rich, people, change, celluloid, library, washington, unleash, australia, radiance, washington, one, bookend, base, one, dead, heart, open, credit, subject, division, establish, cast, credit, rich, person, clear, distinct, line, separate, first, stop, point, name, call, bryan, brown, inch, ...]\n",
              "3    [harmonize, hollywood, movie, make, inch, stop, point, decade, life, inch, small, town, one, bad, thing, could, happen, angstrom, homo, evening, bad, destiny, expect, world, health, organization, unfortunate, turn, inch, dark, godforsaken, topographic, point, later, coerce, populate, everlastingly, traumatize, experience, hand, information, technology, look, something, atlantic, ocean, divide, europe, united, states, one, popular, beloved, european, movie, return, precisely, antonym, position, movie, amarcord, 1974, comedy, celebrate, italian, director, federico, fellini, later, give, inspiration, numerous, imitation, court, evening, light, -, emit, diode, american, screen, artist, adopt, information, technology, dissident, position, benefit, small, town, life, movie, establish, screenplay, fellini, tonino, guerra, information, technology, lack, ...]\n",
              "4                                                                          [first, imperativeness, screening, 1998, already, I, ve, get, angstrom, prime, campaigner, bad, ten, year, list, associate, nursing, auspicious, beginning, welcome, dog, day, winter, lone, movie, opening, merit, academy, award, rival, studio, open, inch, late, december, inch, new, york, liter, angstrom, beginning, look, elsewhere, firestorm, directorial, introduction, dance, wolvess, academy, award, win, cameraman, dean, semler, first, new, old, age, crop, movie, arsenic, narrative, open, movie, pretentiously, inform, united, states, ten, thousand, fireman, lone, four, hundred, smokejumper, cut, angstrom, airplane, load, smoke, jumping, cowboy, one, cowgirl, one, gungho, guy, picking, angstrom, love, affair, quiz, cosmopolitan, time, life, jump, center, angstrom, burn, forest, ...]\n",
              "Name: lemma_tokens, dtype: object"
            ],
            "text/html": [
              "<div>\n",
              "<style scoped>\n",
              "    .dataframe tbody tr th:only-of-type {\n",
              "        vertical-align: middle;\n",
              "    }\n",
              "\n",
              "    .dataframe tbody tr th {\n",
              "        vertical-align: top;\n",
              "    }\n",
              "\n",
              "    .dataframe thead th {\n",
              "        text-align: right;\n",
              "    }\n",
              "</style>\n",
              "<table border=\"1\" class=\"dataframe\">\n",
              "  <thead>\n",
              "    <tr style=\"text-align: right;\">\n",
              "      <th></th>\n",
              "      <th>lemma_tokens</th>\n",
              "    </tr>\n",
              "  </thead>\n",
              "  <tbody>\n",
              "    <tr>\n",
              "      <th>0</th>\n",
              "      <td>[bash, movie, like, mouse, hunt, get, theater, be, not, angstrom, law, oregon, something, devilish, load, bombast, steven, speilbergs, dreamworks, studio, hollywood, family, menu, astatine, information, technology, deadly, bad, mouse, hunt, return, bare, tog, angstrom, plot, attempt, prop, information, technology, hamming, flatout, stupid, slapstick, brand, comedy, like, jingle, manner, expression, decent, comparison, writer, adam, rifkin, director, gore, verbinski, name, call, chiefly, responsible, slop, plot, information, technology, worth, concern, two, brother, nathan, lane, associate, nursing, appal, lee, evening, world, health, organization, inherit, angstrom, ail, run, string, factory, angstrom, apparently, worthless, house, eccentric, father, decision, making, check, longabandoned, house, soon, learn, information, technology, ...]</td>\n",
              "    </tr>\n",
              "    <tr>\n",
              "      <th>1</th>\n",
              "      <td>[talented, actress, bless, angstrom, show, wide, act, scope, other, arsenic, endow, rich, person, express, type, part, suitable, arsenic, washington, amply, apparent, basic, instinct, sharon, rock, play, animal, function, great, abandon, reject, natural, ability, hour, angle, spend, remainder, stallion, career, try, little, success, play, type, gloria, late, catastrophe, baby, ruth, do, not, discontinue, baseball, one, season, play, football, inch, angstrom, quixotic, pursuit, prove, athletic, dexterity, neither, rock, cull, department, energy, good, janeane, garofalo, example, less, fantastic, associate, nursing, actress, could, rich, person, never, pull, murder, rock, part, inch, basic, instinct, neither, rock, less, talented, could, not, bash, garofalos, comedic, function, gloria, ...]</td>\n",
              "    </tr>\n",
              "    <tr>\n",
              "      <th>2</th>\n",
              "      <td>[hour, angle, associate, nursing, extraordinary, year, australian, movie, radiance, hour, angle, scoop, pool, astatine, australian, movie, institute, award, pick, good, movie, good, actor, good, director, etc, attention, deficit, disorder, farinaceous, life, anguish, courage, friendship, angstrom, group, male, prisoner, inch, hivpositive, section, angstrom, jail, love, calamity, angstrom, low, budget, gem, heterosexual, homosexual, love, approach, angstrom, university, campus, iodine, buzzword, recall, angstrom, year, inch, angstrom, rich, people, change, celluloid, library, washington, unleash, australia, radiance, washington, one, bookend, base, one, dead, heart, open, credit, subject, division, establish, cast, credit, rich, person, clear, distinct, line, separate, first, stop, point, name, call, bryan, brown, inch, ...]</td>\n",
              "    </tr>\n",
              "    <tr>\n",
              "      <th>3</th>\n",
              "      <td>[harmonize, hollywood, movie, make, inch, stop, point, decade, life, inch, small, town, one, bad, thing, could, happen, angstrom, homo, evening, bad, destiny, expect, world, health, organization, unfortunate, turn, inch, dark, godforsaken, topographic, point, later, coerce, populate, everlastingly, traumatize, experience, hand, information, technology, look, something, atlantic, ocean, divide, europe, united, states, one, popular, beloved, european, movie, return, precisely, antonym, position, movie, amarcord, 1974, comedy, celebrate, italian, director, federico, fellini, later, give, inspiration, numerous, imitation, court, evening, light, -, emit, diode, american, screen, artist, adopt, information, technology, dissident, position, benefit, small, town, life, movie, establish, screenplay, fellini, tonino, guerra, information, technology, lack, ...]</td>\n",
              "    </tr>\n",
              "    <tr>\n",
              "      <th>4</th>\n",
              "      <td>[first, imperativeness, screening, 1998, already, I, ve, get, angstrom, prime, campaigner, bad, ten, year, list, associate, nursing, auspicious, beginning, welcome, dog, day, winter, lone, movie, opening, merit, academy, award, rival, studio, open, inch, late, december, inch, new, york, liter, angstrom, beginning, look, elsewhere, firestorm, directorial, introduction, dance, wolvess, academy, award, win, cameraman, dean, semler, first, new, old, age, crop, movie, arsenic, narrative, open, movie, pretentiously, inform, united, states, ten, thousand, fireman, lone, four, hundred, smokejumper, cut, angstrom, airplane, load, smoke, jumping, cowboy, one, cowgirl, one, gungho, guy, picking, angstrom, love, affair, quiz, cosmopolitan, time, life, jump, center, angstrom, burn, forest, ...]</td>\n",
              "    </tr>\n",
              "  </tbody>\n",
              "</table>\n",
              "</div><br><label><b>dtype:</b> object</label>"
            ]
          },
          "metadata": {},
          "execution_count": 84
        }
      ]
    },
    {
      "cell_type": "code",
      "source": [
        "# Stemming\n",
        "stemmer = PorterStemmer()\n",
        "\n",
        "df['stemmed_tokens'] = df['lemma_tokens'].apply(lambda x: [stemmer.stem(word) for word in x])\n",
        "df['stemmed_tokens'].head()"
      ],
      "metadata": {
        "colab": {
          "base_uri": "https://localhost:8080/",
          "height": 501
        },
        "id": "Bh4ciBmC2A2K",
        "outputId": "4722a0bc-0427-4245-e834-ddf3288aa8ef"
      },
      "execution_count": null,
      "outputs": [
        {
          "output_type": "execute_result",
          "data": {
            "text/plain": [
              "0               [bash, movi, like, mous, hunt, get, theater, be, not, angstrom, law, oregon, someth, devilish, load, bombast, steven, speilberg, dreamwork, studio, hollywood, famili, menu, astatin, inform, technolog, deadli, bad, mous, hunt, return, bare, tog, angstrom, plot, attempt, prop, inform, technolog, ham, flatout, stupid, slapstick, brand, comedi, like, jingl, manner, express, decent, comparison, writer, adam, rifkin, director, gore, verbinski, name, call, chiefli, respons, slop, plot, inform, technolog, worth, concern, two, brother, nathan, lane, associ, nurs, appal, lee, even, world, health, organ, inherit, angstrom, ail, run, string, factori, angstrom, appar, worthless, hous, eccentr, father, decis, make, check, longabandon, hous, soon, learn, inform, technolog, ...]\n",
              "1                                        [talent, actress, bless, angstrom, show, wide, act, scope, other, arsen, endow, rich, person, express, type, part, suitabl, arsen, washington, ampli, appar, basic, instinct, sharon, rock, play, anim, function, great, abandon, reject, natur, abil, hour, angl, spend, remaind, stallion, career, tri, littl, success, play, type, gloria, late, catastroph, babi, ruth, do, not, discontinu, basebal, one, season, play, footbal, inch, angstrom, quixot, pursuit, prove, athlet, dexter, neither, rock, cull, depart, energi, good, janean, garofalo, exampl, less, fantast, associ, nurs, actress, could, rich, person, never, pull, murder, rock, part, inch, basic, instinct, neither, rock, less, talent, could, not, bash, garofalo, comed, function, gloria, ...]\n",
              "2    [hour, angl, associ, nurs, extraordinari, year, australian, movi, radianc, hour, angl, scoop, pool, astatin, australian, movi, institut, award, pick, good, movi, good, actor, good, director, etc, attent, deficit, disord, farinac, life, anguish, courag, friendship, angstrom, group, male, prison, inch, hivposit, section, angstrom, jail, love, calam, angstrom, low, budget, gem, heterosexu, homosexu, love, approach, angstrom, univers, campu, iodin, buzzword, recal, angstrom, year, inch, angstrom, rich, peopl, chang, celluloid, librari, washington, unleash, australia, radianc, washington, one, bookend, base, one, dead, heart, open, credit, subject, divis, establish, cast, credit, rich, person, clear, distinct, line, separ, first, stop, point, name, call, bryan, brown, inch, ...]\n",
              "3                      [harmon, hollywood, movi, make, inch, stop, point, decad, life, inch, small, town, one, bad, thing, could, happen, angstrom, homo, even, bad, destini, expect, world, health, organ, unfortun, turn, inch, dark, godforsaken, topograph, point, later, coerc, popul, everlastingli, traumat, experi, hand, inform, technolog, look, someth, atlant, ocean, divid, europ, unit, state, one, popular, belov, european, movi, return, precis, antonym, posit, movi, amarcord, 1974, comedi, celebr, italian, director, federico, fellini, later, give, inspir, numer, imit, court, even, light, -, emit, diod, american, screen, artist, adopt, inform, technolog, dissid, posit, benefit, small, town, life, movi, establish, screenplay, fellini, tonino, guerra, inform, technolog, lack, ...]\n",
              "4                                                                     [first, imper, screen, 1998, alreadi, i, ve, get, angstrom, prime, campaign, bad, ten, year, list, associ, nurs, auspici, begin, welcom, dog, day, winter, lone, movi, open, merit, academi, award, rival, studio, open, inch, late, decemb, inch, new, york, liter, angstrom, begin, look, elsewher, firestorm, directori, introduct, danc, wolvess, academi, award, win, cameraman, dean, semler, first, new, old, age, crop, movi, arsen, narr, open, movi, pretenti, inform, unit, state, ten, thousand, fireman, lone, four, hundr, smokejump, cut, angstrom, airplan, load, smoke, jump, cowboy, one, cowgirl, one, gungho, guy, pick, angstrom, love, affair, quiz, cosmopolitan, time, life, jump, center, angstrom, burn, forest, ...]\n",
              "Name: stemmed_tokens, dtype: object"
            ],
            "text/html": [
              "<div>\n",
              "<style scoped>\n",
              "    .dataframe tbody tr th:only-of-type {\n",
              "        vertical-align: middle;\n",
              "    }\n",
              "\n",
              "    .dataframe tbody tr th {\n",
              "        vertical-align: top;\n",
              "    }\n",
              "\n",
              "    .dataframe thead th {\n",
              "        text-align: right;\n",
              "    }\n",
              "</style>\n",
              "<table border=\"1\" class=\"dataframe\">\n",
              "  <thead>\n",
              "    <tr style=\"text-align: right;\">\n",
              "      <th></th>\n",
              "      <th>stemmed_tokens</th>\n",
              "    </tr>\n",
              "  </thead>\n",
              "  <tbody>\n",
              "    <tr>\n",
              "      <th>0</th>\n",
              "      <td>[bash, movi, like, mous, hunt, get, theater, be, not, angstrom, law, oregon, someth, devilish, load, bombast, steven, speilberg, dreamwork, studio, hollywood, famili, menu, astatin, inform, technolog, deadli, bad, mous, hunt, return, bare, tog, angstrom, plot, attempt, prop, inform, technolog, ham, flatout, stupid, slapstick, brand, comedi, like, jingl, manner, express, decent, comparison, writer, adam, rifkin, director, gore, verbinski, name, call, chiefli, respons, slop, plot, inform, technolog, worth, concern, two, brother, nathan, lane, associ, nurs, appal, lee, even, world, health, organ, inherit, angstrom, ail, run, string, factori, angstrom, appar, worthless, hous, eccentr, father, decis, make, check, longabandon, hous, soon, learn, inform, technolog, ...]</td>\n",
              "    </tr>\n",
              "    <tr>\n",
              "      <th>1</th>\n",
              "      <td>[talent, actress, bless, angstrom, show, wide, act, scope, other, arsen, endow, rich, person, express, type, part, suitabl, arsen, washington, ampli, appar, basic, instinct, sharon, rock, play, anim, function, great, abandon, reject, natur, abil, hour, angl, spend, remaind, stallion, career, tri, littl, success, play, type, gloria, late, catastroph, babi, ruth, do, not, discontinu, basebal, one, season, play, footbal, inch, angstrom, quixot, pursuit, prove, athlet, dexter, neither, rock, cull, depart, energi, good, janean, garofalo, exampl, less, fantast, associ, nurs, actress, could, rich, person, never, pull, murder, rock, part, inch, basic, instinct, neither, rock, less, talent, could, not, bash, garofalo, comed, function, gloria, ...]</td>\n",
              "    </tr>\n",
              "    <tr>\n",
              "      <th>2</th>\n",
              "      <td>[hour, angl, associ, nurs, extraordinari, year, australian, movi, radianc, hour, angl, scoop, pool, astatin, australian, movi, institut, award, pick, good, movi, good, actor, good, director, etc, attent, deficit, disord, farinac, life, anguish, courag, friendship, angstrom, group, male, prison, inch, hivposit, section, angstrom, jail, love, calam, angstrom, low, budget, gem, heterosexu, homosexu, love, approach, angstrom, univers, campu, iodin, buzzword, recal, angstrom, year, inch, angstrom, rich, peopl, chang, celluloid, librari, washington, unleash, australia, radianc, washington, one, bookend, base, one, dead, heart, open, credit, subject, divis, establish, cast, credit, rich, person, clear, distinct, line, separ, first, stop, point, name, call, bryan, brown, inch, ...]</td>\n",
              "    </tr>\n",
              "    <tr>\n",
              "      <th>3</th>\n",
              "      <td>[harmon, hollywood, movi, make, inch, stop, point, decad, life, inch, small, town, one, bad, thing, could, happen, angstrom, homo, even, bad, destini, expect, world, health, organ, unfortun, turn, inch, dark, godforsaken, topograph, point, later, coerc, popul, everlastingli, traumat, experi, hand, inform, technolog, look, someth, atlant, ocean, divid, europ, unit, state, one, popular, belov, european, movi, return, precis, antonym, posit, movi, amarcord, 1974, comedi, celebr, italian, director, federico, fellini, later, give, inspir, numer, imit, court, even, light, -, emit, diod, american, screen, artist, adopt, inform, technolog, dissid, posit, benefit, small, town, life, movi, establish, screenplay, fellini, tonino, guerra, inform, technolog, lack, ...]</td>\n",
              "    </tr>\n",
              "    <tr>\n",
              "      <th>4</th>\n",
              "      <td>[first, imper, screen, 1998, alreadi, i, ve, get, angstrom, prime, campaign, bad, ten, year, list, associ, nurs, auspici, begin, welcom, dog, day, winter, lone, movi, open, merit, academi, award, rival, studio, open, inch, late, decemb, inch, new, york, liter, angstrom, begin, look, elsewher, firestorm, directori, introduct, danc, wolvess, academi, award, win, cameraman, dean, semler, first, new, old, age, crop, movi, arsen, narr, open, movi, pretenti, inform, unit, state, ten, thousand, fireman, lone, four, hundr, smokejump, cut, angstrom, airplan, load, smoke, jump, cowboy, one, cowgirl, one, gungho, guy, pick, angstrom, love, affair, quiz, cosmopolitan, time, life, jump, center, angstrom, burn, forest, ...]</td>\n",
              "    </tr>\n",
              "  </tbody>\n",
              "</table>\n",
              "</div><br><label><b>dtype:</b> object</label>"
            ]
          },
          "metadata": {},
          "execution_count": 85
        }
      ]
    },
    {
      "cell_type": "code",
      "source": [
        "# Vector Semantics (TF-IDF)\n",
        "df['final_text'] = df['stemmed_tokens'].apply(lambda x: ' '.join(x))\n",
        "\n",
        "vectorizer = TfidfVectorizer()\n",
        "X = vectorizer.fit_transform(df['final_text'])\n",
        "y = df['label']"
      ],
      "metadata": {
        "id": "nE5Rz6Sa2vI-"
      },
      "execution_count": null,
      "outputs": []
    },
    {
      "cell_type": "code",
      "source": [
        "# Train/Test Split + Naïve Bayes Classification\n",
        "X_train, X_test, y_train, y_test = train_test_split(X, y, test_size=0.2, random_state=42)\n",
        "\n",
        "print(f\"Training samples: {X_train.shape[0]}\")\n",
        "print(f\"Testing samples: {X_test.shape[0]}\")\n",
        "\n",
        "model = MultinomialNB()\n",
        "model.fit(X_train, y_train)\n",
        "y_pred = model.predict(X_test)"
      ],
      "metadata": {
        "colab": {
          "base_uri": "https://localhost:8080/"
        },
        "id": "pYRiTsrt3hXr",
        "outputId": "c2eb02e8-cc95-4c73-ca75-f1fff2eee61a"
      },
      "execution_count": null,
      "outputs": [
        {
          "output_type": "stream",
          "name": "stdout",
          "text": [
            "Training samples: 1600\n",
            "Testing samples: 400\n"
          ]
        }
      ]
    },
    {
      "cell_type": "code",
      "source": [
        "# Naïve Bayes (TF-IDF)\n",
        "vectorizer = TfidfVectorizer()\n",
        "\n",
        "X = vectorizer.fit_transform(df['final_text'])\n",
        "y = df['label']\n",
        "\n",
        "# Output info\n",
        "print(f\"Number of samples: {X.shape[0]}\")\n",
        "print(f\"Number of features (unique words): {X.shape[1]}\")"
      ],
      "metadata": {
        "colab": {
          "base_uri": "https://localhost:8080/"
        },
        "id": "pb8sLt_ck-pJ",
        "outputId": "e11ebe77-a7a3-447d-a5ed-980c2aa717c5"
      },
      "execution_count": null,
      "outputs": [
        {
          "output_type": "stream",
          "name": "stdout",
          "text": [
            "Number of samples: 2000\n",
            "Number of features (unique words): 28093\n"
          ]
        }
      ]
    },
    {
      "cell_type": "code",
      "source": [
        "# Evaluate Naïve Bayes (MultinomialNB)\n",
        "print(\"Naïve Bayes with MultinomialNB version:\")\n",
        "\n",
        "accuracy = accuracy_score(y_test, y_pred)\n",
        "print(f\"Accuracy: {accuracy:.4f}\\n\")\n",
        "\n",
        "print(\"Classification Report:\")\n",
        "print(classification_report(y_test, y_pred, digits=2))"
      ],
      "metadata": {
        "colab": {
          "base_uri": "https://localhost:8080/"
        },
        "id": "ViiZ4qql3mhb",
        "outputId": "14fbc51b-a7ce-45bb-83c8-cd208e90d867"
      },
      "execution_count": null,
      "outputs": [
        {
          "output_type": "stream",
          "name": "stdout",
          "text": [
            "Naïve Bayes with MultinomialNB version:\n",
            "Accuracy: 0.7925\n",
            "\n",
            "Classification Report:\n",
            "              precision    recall  f1-score   support\n",
            "\n",
            "         neg       0.73      0.88      0.80       191\n",
            "         pos       0.87      0.71      0.78       209\n",
            "\n",
            "    accuracy                           0.79       400\n",
            "   macro avg       0.80      0.80      0.79       400\n",
            "weighted avg       0.81      0.79      0.79       400\n",
            "\n"
          ]
        }
      ]
    },
    {
      "cell_type": "code",
      "source": [
        "# Generate the confusion matrix\n",
        "cm = confusion_matrix(y_test, y_pred, labels=['pos', 'neg'])\n",
        "\n",
        "disp = ConfusionMatrixDisplay(confusion_matrix=cm, display_labels=['Positive', 'Negative'])\n",
        "disp.plot(cmap='Blues', values_format='d')\n",
        "\n",
        "plt.title('Confusion Matrix - Naïve Bayes')\n",
        "plt.show()"
      ],
      "metadata": {
        "colab": {
          "base_uri": "https://localhost:8080/",
          "height": 472
        },
        "id": "02ziPy8HkeZl",
        "outputId": "ce6a01c3-948d-4e16-979f-9a3536454f8c"
      },
      "execution_count": null,
      "outputs": [
        {
          "output_type": "display_data",
          "data": {
            "text/plain": [
              "<Figure size 640x480 with 2 Axes>"
            ],
            "image/png": "[encoded data removed]"
          },
          "metadata": {}
        }
      ]
    },
    {
      "cell_type": "code",
      "source": [
        "y_probs = model.predict_proba(X_test)[:, 1]  # Get probs for the positive class\n",
        "precision, recall, _ = precision_recall_curve(y_test, y_probs, pos_label='pos')\n",
        "\n",
        "disp = PrecisionRecallDisplay(precision=precision, recall=recall)\n",
        "disp.plot()\n",
        "plt.title(\"Precision-Recall Curve [Positive Sentiment]\")\n",
        "plt.show()"
      ],
      "metadata": {
        "colab": {
          "base_uri": "https://localhost:8080/",
          "height": 472
        },
        "id": "JOnb9KgI6LiY",
        "outputId": "2d29ea23-68ad-4323-caa0-6898c0b2c8f4"
      },
      "execution_count": null,
      "outputs": [
        {
          "output_type": "display_data",
          "data": {
            "text/plain": [
              "<Figure size 640x480 with 1 Axes>"
            ],
            "image/png": "[encoded data removed]"
          },
          "metadata": {}
        }
      ]
    },
    {
      "cell_type": "code",
      "source": [
        "y_probs = model.predict_proba(X_test)\n",
        "\n",
        "precision_pos, recall_pos, _ = precision_recall_curve(y_test, y_probs[:, 1], pos_label='pos')\n",
        "precision_neg, recall_neg, _ = precision_recall_curve(y_test, y_probs[:, 0], pos_label='neg')\n",
        "\n",
        "plt.figure(figsize=(8, 6))\n",
        "disp_pos = PrecisionRecallDisplay(precision=precision_pos, recall=recall_pos)\n",
        "disp_neg = PrecisionRecallDisplay(precision=precision_neg, recall=recall_neg)\n",
        "\n",
        "disp_pos.plot(ax=plt.gca(), name='Positive Sentiment', color='blue')\n",
        "disp_neg.plot(ax=plt.gca(), name='Negative Sentiment', color='red')\n",
        "\n",
        "plt.title(\"Precision-Recall Curve (Positive vs Negative)\")\n",
        "plt.grid(True)\n",
        "plt.show()"
      ],
      "metadata": {
        "colab": {
          "base_uri": "https://localhost:8080/",
          "height": 564
        },
        "id": "WaGuciRWnywj",
        "outputId": "cbcb0b0a-d71c-4c43-f90e-95d61d2e21cb"
      },
      "execution_count": null,
      "outputs": [
        {
          "output_type": "display_data",
          "data": {
            "text/plain": [
              "<Figure size 800x600 with 1 Axes>"
            ],
            "image/png": "[encoded data removed]"
          },
          "metadata": {}
        }
      ]
    }
  ]
}